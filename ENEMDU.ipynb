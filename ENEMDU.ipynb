{
 "cells": [
  {
   "cell_type": "code",
   "execution_count": 5,
   "metadata": {},
   "outputs": [
    {
     "data": {
      "text/html": [
       "        <script type=\"text/javascript\">\n",
       "        window.PlotlyConfig = {MathJaxConfig: 'local'};\n",
       "        if (window.MathJax) {MathJax.Hub.Config({SVG: {font: \"STIX-Web\"}});}\n",
       "        if (typeof require !== 'undefined') {\n",
       "        require.undef(\"plotly\");\n",
       "        requirejs.config({\n",
       "            paths: {\n",
       "                'plotly': ['https://cdn.plot.ly/plotly-latest.min']\n",
       "            }\n",
       "        });\n",
       "        require(['plotly'], function(Plotly) {\n",
       "            window._Plotly = Plotly;\n",
       "        });\n",
       "        }\n",
       "        </script>\n",
       "        "
      ]
     },
     "metadata": {},
     "output_type": "display_data"
    }
   ],
   "source": [
    "import pandas as pd\n",
    "import numpy as np\n",
    "import pyreadstat\n",
    "# import xlwings as xlw\n",
    "import matplotlib.pyplot as plt\n",
    "import seaborn as sns\n",
    "from scipy import stats\n",
    "import sys\n",
    "from os import listdir\n",
    "from sklearn.neighbors import KernelDensity\n",
    "from IPython.display import clear_output\n",
    "import cufflinks as cf\n",
    "from unidecode import unidecode\n",
    "import ipystata\n",
    "from linearmodels.panel import PanelOLS\n",
    "\n",
    "sns.set()\n",
    "# sns.set_style(\"darkgrid\")\n",
    "\n",
    "cf.go_offline()"
   ]
  },
  {
   "cell_type": "markdown",
   "metadata": {},
   "source": [
    "# Definiciones"
   ]
  },
  {
   "cell_type": "code",
   "execution_count": 7,
   "metadata": {
    "slideshow": {
     "slide_type": "slide"
    }
   },
   "outputs": [
    {
     "name": "stdout",
     "output_type": "stream",
     "text": [
      "['200712', '200812', '200912', '201012', '201112', '201212', '201312', '201412', '201512', '201612', '201712', '201812', '201912']\n",
      "{1.0: 'Azuay', 2.0: 'Bolívar', 3.0: 'Cañar', 4.0: 'Carchi', 5.0: 'Cotopaxi', 6.0: 'Chimborazo', 7.0: 'El Oro', 8.0: 'Esmeraldas', 9.0: 'Guayas', 10.0: 'Imbabura', 11.0: 'Loja', 12.0: 'Los Ríos', 13.0: 'Manabí', 14.0: 'Amazonía', 15.0: 'Amazonía', 16.0: 'Amazonía', 17.0: 'Pichincha', 18.0: 'Tungurahua', 19.0: 'Amazonía', 20.0: 'Galapagos', 21.0: 'Amazonía', 22.0: 'Amazonía', 23.0: 'Pichincha', 24.0: 'Guayas', 90.0: 'Zonas no Delimitadas'}\n"
     ]
    }
   ],
   "source": [
    "variables_relevantes = ['ciudad','secemp','fexp','p02','p03','p10a','area','rama1','grupo1',\n",
    "                        'p44f','p05a','p05b','p15','p40','p41','p42','p43',\n",
    "                        'ref','ingpc','ingrl','p63','p64b','p65','p66','p67','p68b','p69','p70b','p71b','p72b','p73b','p74b','p76','p77','p77a','p77b','p78','p78a','p78b','p78c']\n",
    "grupo_edades = pd.IntervalIndex.from_tuples([(0, 20), (21, 30), (31, 40), (41,50), (51,60), (61,200)])\n",
    "lista_archivos = [s.replace('.sav', '') for s in listdir() if '.sav' in s]\n",
    "lista_archivos = [s for s in lista_archivos if s >= '200712']\n",
    "# lista_archivos = ['201012','201612']\n",
    "\n",
    "df_data = pd.read_excel('data.xlsx','data',3)\n",
    "df_data['year'] = df_data.year.astype(str)+'12'\n",
    "df_data.set_index('year', inplace=True)\n",
    "\n",
    "print(lista_archivos)\n",
    "\n",
    "df_t, meta_t = pyreadstat.read_sav('201612'+'.sav', metadataonly=True)\n",
    "provincias = meta_t.variable_value_labels['prov']\n",
    "lista_amazonia = ['Morona Santiago','Napo','Pastaza','Zamora Chinchipe','Sucumbíos','Orellana']\n",
    "for k in provincias:\n",
    "    if provincias[k] in lista_amazonia:\n",
    "        provincias[k] = 'Amazonía'\n",
    "\n",
    "provincias[24]='Guayas'\n",
    "provincias[23]='Pichincha'\n",
    "\n",
    "print(provincias)"
   ]
  },
  {
   "cell_type": "code",
   "execution_count": 8,
   "metadata": {},
   "outputs": [],
   "source": [
    "def intersection(lst1, lst2): \n",
    "    lst3 = [value for value in lst1 if value in lst2] \n",
    "    return lst3\n",
    "\n",
    "def read_meta(file):\n",
    "    df, meta = pyreadstat.read_sav(file+'.sav', metadataonly=True)\n",
    "    return meta\n",
    "\n",
    "def read_columns(file):\n",
    "    df, meta = pyreadstat.read_sav(file+'.sav', metadataonly=True)\n",
    "    columns = [s.lower() for s in df.columns]\n",
    "    return columns\n",
    "\n",
    "def weight_array(ar, weights):\n",
    "    zipped = zip(ar, weights)\n",
    "    weighted = []\n",
    "    for i in zipped:\n",
    "        for j in range(i[1]):\n",
    "            weighted.append(i[0])\n",
    "    return np.array(weighted)\n",
    "\n",
    "def weighted_qcut(values, weights, q, **kwargs):\n",
    "    'Return weighted quantile cuts from a given series, values.'\n",
    "    if type(q)==int:\n",
    "        quantiles = np.linspace(0, 1, q + 1)\n",
    "    else:\n",
    "        quantiles = q\n",
    "    order = weights.iloc[values.argsort()].cumsum()\n",
    "    bins = pd.cut(order / order.iloc[-1], quantiles, labels=False, **kwargs)\n",
    "    return bins.sort_index()\n",
    "\n",
    "def weighted_percentile(data, percents, weights=None):\n",
    "    if weights is None:\n",
    "        return np.percentile(data, percents)\n",
    "    ind=np.argsort(data)\n",
    "    d=data.iloc[ind]\n",
    "    w=weights.iloc[ind]\n",
    "    p=1.*w.cumsum()/w.sum()*100\n",
    "    y=np.interp(percents, p, d)\n",
    "    return y\n",
    "\n",
    "def weighted_percentileofscore(values, weights=None, values_sorted=False):\n",
    "    \"\"\" Similar to scipy.percentileofscore, but supports weights.\n",
    "    :param values: array-like with data.\n",
    "    :param weights: array-like of the same length as `values`.\n",
    "    :param values_sorted: bool, if True, then will avoid sorting of initial array.\n",
    "    :return: numpy.array with percentiles of sorted array.\n",
    "    \"\"\"\n",
    "    values = np.array(values)\n",
    "    if weights is None:\n",
    "        weights = np.ones(len(values))\n",
    "    weights = np.array(weights)\n",
    "\n",
    "    if not values_sorted:\n",
    "        sorter = np.argsort(values)\n",
    "        values = values[sorter]\n",
    "        weights = weights[sorter]\n",
    "\n",
    "    total_weight = weights.sum()\n",
    "    return 100 * np.cumsum(weights) / total_weight\n",
    "\n",
    "def read_sav(file):\n",
    "    'Lee el archivo .sav y devuelve un dataframe'  \n",
    "    df, meta = pyreadstat.read_sav(file+'.sav', metadataonly=False)\n",
    "    \n",
    "    # Selecciona solo columnas relevantes:\n",
    "    df = df[intersection(df.columns, variables_relevantes)]\n",
    "    \n",
    "    # Crea columna provincia y mapea con el nombre:\n",
    "    df['ciudad'] = df['ciudad'].astype('int')\n",
    "    df['provincia'] = df['ciudad'].astype('str').str[:-4].astype('int').map(provincias)\n",
    "    \n",
    "    df.dropna(subset=['ingrl','provincia'], inplace=True)\n",
    "    condition = ((df.ingrl != 999999) & (df.ingrl >= 0) & (df.p03 >= 15))\n",
    "    df = df[condition]\n",
    "    \n",
    "    # Crea columnas con descripción de las variables\n",
    "    labels = meta.variable_value_labels\n",
    "    for var in intersection(df.columns, labels.keys()):\n",
    "        df[var+'_desc'] = df[var].map(labels[var]).fillna(df[var])\n",
    "    \n",
    "    print(file,end=' | ')\n",
    "    return df"
   ]
  },
  {
   "cell_type": "code",
   "execution_count": null,
   "metadata": {},
   "outputs": [],
   "source": []
  },
  {
   "cell_type": "markdown",
   "metadata": {},
   "source": [
    "# Importación de datos"
   ]
  },
  {
   "cell_type": "code",
   "execution_count": 9,
   "metadata": {},
   "outputs": [
    {
     "name": "stdout",
     "output_type": "stream",
     "text": [
      "Dim 1 (431287, 78)\n",
      "Dim 2 (431287, 113) {'grupo_edad', 'ingrcp_ppp', 'ingrsal', 'ingrcp', 'sbu_r_lag', 'ingrcp_r', 'ingrl_r', 'ingrl_ppp', 'tcambio_lag', 'fb_ingrsal', 'ppp_factor', 'faf_ingrl', 'ppp_factor_lag', 'p_nacional', 'fb_ingrcp', 'sbu_ppp_lag', 'ingrsal_r', 'v1', 'sbu_r', 'tcambio', 'faf_ingrsal', 'ingrsal_ppp', 'sbu', 'faf_ingrcp', 'fa_ingrcp', 'ipc_lag', 'p_provincial', 'sbu_ppp', 'sbu_lag', 'fb_ingrl', 'informal_ss', 'fa_ingrsal', 'fa_ingrl', 'laggedyear', 'ipc'}\n",
      "Dim 3 (412747, 113) -18540\n"
     ]
    }
   ],
   "source": [
    "# if input('Actualizar desde bases .sav (y/n)?').lower() == 'y':\n",
    "if False:    \n",
    "    df_dict = {file:read_sav(file) for file in lista_archivos}\n",
    "    meta_dict = {file:read_meta(file) for file in lista_archivos}\n",
    "    df = pd.concat(df_dict.values(),keys=df_dict.keys(),sort=False).reset_index().rename(columns={\"level_0\":\"year\"})\n",
    "    del df_dict\n",
    "    df.to_pickle('df_enemdu')\n",
    "#     meta_dict.to_pickle()\n",
    "else:\n",
    "    df = pd.read_pickle('df_enemdu')\n",
    "    meta_dict = {file:read_meta(file) for file in lista_archivos}\n",
    "clear_output(wait=True)\n",
    "\n",
    "# Reemplazo de perdidos --------------------------------\n",
    "df['p67'] = np.where(df.p67==999999, 0, df.p67)\n",
    "df['p66'] = np.where(df.p66==999999, 0, df.p66)\n",
    "print('Dim 1',df.shape)\n",
    "\n",
    "# Nuevas variables -------------------------------------\n",
    "a = list(df.columns)\n",
    "\n",
    "df = df.merge(df_data, how='left', left_on='year', right_index=True)\n",
    "df['laggedyear'] = (df.year.astype(int).add(-100).astype(str))\n",
    "df = df.merge(df_data, how='left', left_on='laggedyear', right_index=True, suffixes=('','_lag'))\n",
    "\n",
    "df['v1'] = 1\n",
    "df['grupo_edad'] = pd.cut(df.p03, grupo_edades)\n",
    "df['informal_ss'] = np.where(np.isin(df.p05a,[1,2,3,4]), 'formal_ss', 'informal_ss') # Informalidad por seguridad social\n",
    "df['ingrsal'] = df.p66.add(df.p67)\n",
    "df['ingrcp'] = df.ingrl.add(-df.ingrsal)\n",
    "df[['ingrsal','ingrcp']] = df[['ingrsal','ingrcp']].fillna(0)\n",
    "df['p_provincial'] = df.groupby(['year','provincia']).apply(lambda x: weighted_qcut(x.ingrl,x.fexp,10)).reset_index([0,1],drop=True)\n",
    "df['p_nacional'] = df.groupby(['year']).apply(lambda x: weighted_qcut(x.ingrl,x.fexp,10)).reset_index(0,drop=True)\n",
    "for var in ['ingrl','ingrsal','ingrcp']:\n",
    "    df[var+'_r'] = df[var]/df['ipc']*100\n",
    "    df[var+'_ppp'] = df[var]/df['ppp_factor']\n",
    "    df['fa_'+var] = np.where((df[var] >= df.sbu*0.9) & (df[var] <= df.sbu*1.1),'fa_'+var,'nfa_'+var)\n",
    "    df['fb_'+var] = np.where(df[var] < df.sbu*0.9,'fb_'+var,'nfb_'+var)\n",
    "    df['faf_'+var] = np.where((df[var] >= df.sbu_lag) & (df[var] <= df.sbu),'faf_'+var,'nfaf_'+var)\n",
    "    \n",
    "print('Dim 2',df.shape, set(df.columns) - set(a))\n",
    "\n",
    "# Agrupación de datos\n",
    "\n",
    "df['p15_desc'] = np.where( np.isin(df.p15_desc,['Mulato','Negro']), 'Afroecuatoriano', df.p15_desc )\n",
    "df['p15_desc'] = np.where( np.isin(df.p15_desc,['Otro, cual','Montubio']) , 'Indígena', df.p15_desc )\n",
    "\n",
    "df['p10a_desc'] = np.where( np.isin(df.p10a_desc,['Ninguno', 'Centro de alfabetización']) , 'sin_educacion', df.p10a_desc )\n",
    "df['p10a_desc'] = np.where( np.isin(df.p10a_desc,['Educación Básica', 'Primaria']) , 'primaria', df.p10a_desc )\n",
    "df['p10a_desc'] = np.where( np.isin(df.p10a_desc,['Educación  Media', 'Educación Media', 'Secundaria']) , 'secundaria', df.p10a_desc )\n",
    "df['p10a_desc'] = np.where( np.isin(df.p10a_desc,['Superior Universitario', 'Superior no universitario', 'Post-grado']) , 'terciaria', df.p10a_desc )\n",
    "\n",
    "df['area_desc'] = np.where(df.area == 1,'Urbano', 'Rural')\n",
    "\n",
    "\n",
    "# Elimina filas no deseadas -------------------------\n",
    "a = df.shape[0]\n",
    "\n",
    "condition = ((df.ingrl != 0) & (df.provincia != 'Zonas no Delimitadas') & (df.provincia != 'Galapagos') & (df.ingrl>0))# & (df.p_provincial != 99))\n",
    "df = df[condition]\n",
    "\n",
    "print('Dim 3',df.shape,df.shape[0]-a)\n",
    "\n",
    "# df.head()"
   ]
  },
  {
   "cell_type": "code",
   "execution_count": 6,
   "metadata": {},
   "outputs": [
    {
     "name": "stdout",
     "output_type": "stream",
     "text": [
      "year level_1 area ciudad p02 p03 p05a p05b p10a p15 p40 p41 p42 p43 p44f p63 p64b p65 p66 p67 p68b p69 p70b p71b p72b p73b p74b p76 p77a p77b p78 fexp secemp ingrl ingpc rama1 grupo1 provincia area_desc p02_desc p03_desc p05a_desc p05b_desc p10a_desc p15_desc p40_desc p41_desc p42_desc p43_desc p44f_desc p63_desc p64b_desc p65_desc p66_desc p67_desc p68b_desc p69_desc p70b_desc p71b_desc p72b_desc p73b_desc p74b_desc p76_desc p77a_desc p77b_desc p78_desc secemp_desc ingrl_desc rama1_desc grupo1_desc p78a p78b p78c p78a_desc p78b_desc p78c_desc p77 p77_desc ppp_factor ipc tcambio sbu sbu_r sbu_ppp laggedyear ppp_factor_lag ipc_lag tcambio_lag sbu_lag sbu_r_lag sbu_ppp_lag v1 grupo_edad informal_ss ingrsal ingrcp p_provincial p_nacional ingrl_r ingrl_ppp fa_ingrl fb_ingrl faf_ingrl ingrsal_r ingrsal_ppp fa_ingrsal fb_ingrsal faf_ingrsal ingrcp_r ingrcp_ppp fa_ingrcp fb_ingrcp faf_ingrcp "
     ]
    }
   ],
   "source": [
    "for col in df.columns:\n",
    "    print(col, end=' ')"
   ]
  },
  {
   "cell_type": "code",
   "execution_count": 7,
   "metadata": {},
   "outputs": [],
   "source": [
    "# xlw.Book('smin.xlsx').sheets('Sheet3').range('A1').value = df.dropna(subset=['ingrl']).sample(10000)\n",
    "# df[['p43','p43_desc']].drop_duplicates()\n",
    "# df[['area','area_desc']].drop_duplicates().sort_values('area')"
   ]
  },
  {
   "cell_type": "code",
   "execution_count": null,
   "metadata": {},
   "outputs": [],
   "source": [
    "df_t = df[df.year=='201712']\n",
    "pd.crosstab([df_t.grupo1,df_t.grupo1_desc],[df_t.year,df_t.rama1_desc.str[0],df_t.p02_desc],df_t.fexp,aggfunc=np.sum).to_clipboard() #.xs('Mujer',axis=1,level=1,drop_level=False)"
   ]
  },
  {
   "cell_type": "markdown",
   "metadata": {},
   "source": [
    "# Densidades"
   ]
  },
  {
   "cell_type": "code",
   "execution_count": null,
   "metadata": {
    "collapsed": true,
    "jupyter": {
     "outputs_hidden": true
    }
   },
   "outputs": [],
   "source": [
    "%%time\n",
    "# years = [str(i) for i in list(range(200712,201812,100))]\n",
    "years = ['200712','201212','201712']\n",
    "fig, axs = plt.subplots(2,len(years),sharey=True,sharex=True, figsize=(20,7), dpi=200)\n",
    "colors = ['red','blue','green','navy','orange']\n",
    "# fig.suptitle('Densidades de ingresos laborales, cuenta propia y salarios')\n",
    "\n",
    "for i,year in enumerate(years):\n",
    "    P = 100\n",
    "    hl = list()\n",
    "    variables = {'ingrsal_r':'Salarios',\n",
    "                 'ingrcp_r':'Cuentas Propias',}\n",
    "#                  'ingrl_r':'Laboral'}\n",
    "    for var in variables.keys():\n",
    "        cond = (df[var]>0) & (df['year']==year)\n",
    "        df_t = df[cond][[var,'fexp']]\n",
    "        X = np.log(np.array(df_t.iloc[:,0]).reshape(-1, 1))\n",
    "        S = df_t.iloc[:,1]\n",
    "        h = X.std()*(4/3/X.size)**(1/10) # Silverman rule of thumb for kernel bandwith\n",
    "        hl.append(np.round(h,3))\n",
    "        kde = KernelDensity(bandwidth=h,kernel='epanechnikov').fit(X=X, sample_weight=S)\n",
    "        x_plot = np.linspace(X.min(), X.max(), P).reshape(-1,1)\n",
    "        y_plot = np.exp(kde.score_samples(x_plot))\n",
    "        y_plot_c = np.cumsum(y_plot)/np.cumsum(y_plot)[-1]\n",
    "        axs[0,i].plot(x_plot,y_plot,label=variables[var])\n",
    "        axs[1,i].plot(x_plot,y_plot_c,label=variables[var])\n",
    "        print(year, variables[var])\n",
    "        clear_output(wait=True)\n",
    "    \n",
    "    axs[0,i].axvspan(np.log(df_data.sbu_r[year]*0.90),np.log(df_data.sbu_r[year]*1.10), alpha=0.25, color='grey')\n",
    "    axs[0,i].axvline(np.log(df_data.sbu_r[year]), label='MW', ls=':', color='black')\n",
    "    axs[1,i].axvline(np.log(df_data.sbu_r[year]), label='MW', ls=':', color='black')\n",
    "    \n",
    "    axs[0,i].set_title(year[0:4]+'\\n'+'h='+str(hl),loc='right')\n",
    "    if i==0:\n",
    "        axs[0,i].legend()\n",
    "\n",
    "# plt.xlim((0,1000))\n",
    "\n",
    "axs[1,0].axhline(0.41, label='MW', ls='--', color='navy', alpha=0.3)\n",
    "axs[1,1].axhline(0.39, label='MW', ls='--', color='navy', alpha=0.3)\n",
    "axs[1,2].axhline(0.38, label='MW', ls='--', color='navy', alpha=0.3)\n",
    "\n",
    "axs[1,0].axhline(0.94, label='MW', ls='--', color='darkorange', alpha=0.3)\n",
    "axs[1,1].axhline(0.99, label='MW', ls='--', color='darkorange', alpha=0.3)\n",
    "axs[1,2].axhline(0.99, label='MW', ls='--', color='darkorange', alpha=0.3)\n",
    "\n",
    "plt.xlim((1,8))\n",
    "plt.savefig('densidades.png',dpi=300)\n",
    "plt.show()"
   ]
  },
  {
   "cell_type": "code",
   "execution_count": null,
   "metadata": {},
   "outputs": [],
   "source": [
    "years = enumerate([str(i) for i in list(range(200712,201912,100))])\n",
    "iss = range(0,13,1)\n"
   ]
  },
  {
   "cell_type": "code",
   "execution_count": null,
   "metadata": {},
   "outputs": [],
   "source": [
    "# [type(i%2) for i in iss]\n",
    "# [(int((i-i%2)/2)) for i in iss]\n",
    "len(years)\n",
    "(int(len(years)/cols),cols)"
   ]
  },
  {
   "cell_type": "code",
   "execution_count": 10,
   "metadata": {},
   "outputs": [
    {
     "data": {
      "image/png": "[encoded data removed]",
      "text/plain": [
       "<Figure size 720x720 with 6 Axes>"
      ]
     },
     "metadata": {},
     "output_type": "display_data"
    },
    {
     "name": "stdout",
     "output_type": "stream",
     "text": [
      "Wall time: 53.2 s\n"
     ]
    }
   ],
   "source": [
    "%%time\n",
    "years = [str(i) for i in list(range(200712,201312,100))]\n",
    "cols = 2\n",
    "\n",
    "fig, axs = plt.subplots(int(len(years)/cols),cols,sharey=True,sharex=True,figsize=(10,10), gridspec_kw={'wspace':.075})\n",
    "\n",
    "colors = ['red','blue','green','navy','orange']\n",
    "# fig.suptitle('Densidades de ingresos laborales, cuenta propia y salarios')\n",
    "\n",
    "for i,year in enumerate(years):\n",
    "    P = 2000\n",
    "    hl = list()\n",
    "    variables = {'ingrsal_r':'Ingreso salarial',\n",
    "                 'ingrcp_r':'Ingreso cuenta propia',}\n",
    "#                  'ingrl_r':'Laboral'}\n",
    "    for var in variables.keys():\n",
    "        cond = (df[var]>0) & (df['year']==year)\n",
    "        df_t = df[cond][[var,'fexp']]\n",
    "        X = np.log(np.array(df_t.iloc[:,0]).reshape(-1, 1))\n",
    "        S = df_t.iloc[:,1]\n",
    "        h = X.std()*(4/3/X.size)**(1/10) # Silverman rule of thumb for kernel bandwith\n",
    "        hl.append(np.round(h,3))\n",
    "        kde = KernelDensity(bandwidth=h,kernel='epanechnikov').fit(X=X, sample_weight=S)\n",
    "        x_plot = np.linspace(X.min(), X.max(), P).reshape(-1,1)\n",
    "        y_plot = np.exp(kde.score_samples(x_plot))\n",
    "        y_plot_c = np.cumsum(y_plot)/np.cumsum(y_plot)[-1]\n",
    "        axi = int((i-i%cols)/cols)\n",
    "        axj = i%2        \n",
    "        axs[axi,axj].plot(x_plot,y_plot,label=variables[var])\n",
    "#         axs[1,i].plot(x_plot,y_plot_c,label=variables[var])\n",
    "        print(year, variables[var])\n",
    "        clear_output(wait=True)\n",
    "        \n",
    "    axs[axi,axj].axvspan(np.log(df_data.sbu_r[year]*0.90),np.log(df_data.sbu_r[year]*1.10), alpha=0.25, color='grey', label='Fraction at')\n",
    "    axs[axi,axj].axvline(np.log(df_data.sbu_r[year]), label='SBU', ls=':', color='black')\n",
    "\n",
    "    axs[axi,axj].set_title(year[0:4]+'\\n'+'h='+str(hl),loc='right') #,fontdict = {'fontsize' : 9})\n",
    "    \n",
    "fig.text(0.5, 0.07, 'Logaritmo de ingreso real mensual', ha='center', fontdict = {'fontsize' : 12,'weight': 'bold'})\n",
    "fig.text(0.06, 0.5, 'Densidad', va='center', rotation='vertical', fontdict = {'fontsize' : 12,'weight': 'bold'})\n",
    "axs[0,1].legend(loc = 'upper left')\n",
    "\n",
    "# fig.set_xlabel('common xlabel')\n",
    "# fig.set_ylabel('common ylabel')\n",
    "# fig.text(0.5, 0.04, 'common xlabel', ha='center', va='center')\n",
    "# fig.text(0.06, 0.5, 'common ylabel', ha='center', va='center', rotation='vertical')\n",
    "\n",
    "plt.xlim((1,8))\n",
    "plt.savefig('densidades1.png',dpi=300,bbox_inches='tight')\n",
    "plt.show()"
   ]
  },
  {
   "cell_type": "code",
   "execution_count": 12,
   "metadata": {},
   "outputs": [
    {
     "data": {
      "image/png": "[encoded data removed]",
      "text/plain": [
       "<Figure size 720x720 with 6 Axes>"
      ]
     },
     "metadata": {},
     "output_type": "display_data"
    },
    {
     "name": "stdout",
     "output_type": "stream",
     "text": [
      "Wall time: 49.5 s\n"
     ]
    }
   ],
   "source": [
    "%%time\n",
    "years = [str(i) for i in list(range(201312,201912,100))]\n",
    "cols = 2\n",
    "\n",
    "fig, axs = plt.subplots(int(len(years)/cols),cols,sharey=True,sharex=True,figsize=(10,10), gridspec_kw={'wspace':.075})\n",
    "\n",
    "colors = ['red','blue','green','navy','orange']\n",
    "# fig.suptitle('Densidades de ingresos laborales, cuenta propia y salarios')\n",
    "\n",
    "for i,year in enumerate(years):\n",
    "    P = 2000\n",
    "    hl = list()\n",
    "    variables = {'ingrsal_r':'Ingreso salarial',\n",
    "                 'ingrcp_r':'Ingreso cuenta propia',}\n",
    "#                  'ingrl_r':'Laboral'}\n",
    "    for var in variables.keys():\n",
    "        cond = (df[var]>0) & (df['year']==year)\n",
    "        df_t = df[cond][[var,'fexp']]\n",
    "        X = np.log(np.array(df_t.iloc[:,0]).reshape(-1, 1))\n",
    "        S = df_t.iloc[:,1]\n",
    "        h = X.std()*(4/3/X.size)**(1/10) # Silverman rule of thumb for kernel bandwith\n",
    "        hl.append(np.round(h,3))\n",
    "        kde = KernelDensity(bandwidth=h,kernel='epanechnikov').fit(X=X, sample_weight=S)\n",
    "        x_plot = np.linspace(X.min(), X.max(), P).reshape(-1,1)\n",
    "        y_plot = np.exp(kde.score_samples(x_plot))\n",
    "        y_plot_c = np.cumsum(y_plot)/np.cumsum(y_plot)[-1]\n",
    "        axi = int((i-i%cols)/cols)\n",
    "        axj = i%2        \n",
    "        axs[axi,axj].plot(x_plot,y_plot,label=variables[var])\n",
    "#         axs[1,i].plot(x_plot,y_plot_c,label=variables[var])\n",
    "        print(year, variables[var])\n",
    "        clear_output(wait=True)\n",
    "        \n",
    "    axs[axi,axj].axvspan(np.log(df_data.sbu_r[year]*0.90),np.log(df_data.sbu_r[year]*1.10), alpha=0.25, color='grey', label='Fraction at')\n",
    "    axs[axi,axj].axvline(np.log(df_data.sbu_r[year]), label='SBU', ls=':', color='black')\n",
    "\n",
    "    axs[axi,axj].set_title(year[0:4]+'\\n'+'h='+str(hl),loc='right') #,fontdict = {'fontsize' : 9})\n",
    "    \n",
    "fig.text(0.5, 0.07, 'Logaritmo de ingreso real mensual', ha='center', fontdict = {'fontsize' : 12,'weight': 'bold'})\n",
    "fig.text(0.06, 0.5, 'Densidad', va='center', rotation='vertical', fontdict = {'fontsize' : 12,'weight': 'bold'})\n",
    "axs[0,1].legend(loc = 'upper left')\n",
    "\n",
    "# fig.set_xlabel('common xlabel')\n",
    "# fig.set_ylabel('common ylabel')\n",
    "# fig.text(0.5, 0.04, 'common xlabel', ha='center', va='center')\n",
    "# fig.text(0.06, 0.5, 'common ylabel', ha='center', va='center', rotation='vertical')\n",
    "\n",
    "plt.xlim((1,8))\n",
    "plt.savefig('densidades2.png',dpi=300,bbox_inches='tight')\n",
    "plt.show()"
   ]
  },
  {
   "cell_type": "markdown",
   "metadata": {},
   "source": [
    "# Armado del Panel"
   ]
  },
  {
   "cell_type": "code",
   "execution_count": 11,
   "metadata": {},
   "outputs": [
    {
     "name": "stdout",
     "output_type": "stream",
     "text": [
      "lab1 lab2 lab3 lab4 lab5 lab6 lab7 lab8 lab9 lab10 sal1 sal2 sal3 sal4 sal5 sal6 sal7 sal8 sal9 sal10 cp1 cp2 cp3 cp4 cp5 cp6 cp7 cp8 cp9 cp10 sbu_r fa_ingrl nfa_ingrl fa_ingrsal nfa_ingrsal fa_ingrcp nfa_ingrcp fb_ingrl nfb_ingrl fb_ingrsal nfb_ingrsal fb_ingrcp nfb_ingrcp faf_ingrl nfaf_ingrl faf_ingrsal nfaf_ingrsal faf_ingrcp nfaf_ingrcp formal_ss informal_ss hombre mujer afroecuatoriano blanco indigena mestizo primaria secundaria sin_educacion terciaria rural urbano a b c d e f g h i j k l m n o p q r s t u llab1 dllab1 llab2 dllab2 llab3 dllab3 llab4 dllab4 llab5 dllab5 llab6 dllab6 llab7 dllab7 llab8 dllab8 llab9 dllab9 llab10 dllab10 lsal1 dlsal1 lsal2 dlsal2 lsal3 dlsal3 lsal4 dlsal4 lsal5 dlsal5 lsal6 dlsal6 lsal7 dlsal7 lsal8 dlsal8 lsal9 dlsal9 lsal10 dlsal10 lcp1 dlcp1 lcp2 dlcp2 lcp3 dlcp3 lcp4 dlcp4 lcp5 dlcp5 lcp6 dlcp6 lcp7 dlcp7 lcp8 dlcp8 lcp9 dlcp9 lcp10 dlcp10 lsbu_r dlsbu_r dfa_ingrl dfa_ingrsal dfa_ingrcp dfb_ingrl dfb_ingrsal dfb_ingrcp dfaf_ingrl dfaf_ingrsal dfaf_ingrcp "
     ]
    }
   ],
   "source": [
    "d1=dict()\n",
    "for item in df.groupby(['provincia','year']):\n",
    "    d1[item[0]] = weighted_percentile(item[1].ingrl_r,range(10,110,10), item[1].fexp)\n",
    "    print('Laboral ',item[0][1],item[0][0])\n",
    "    clear_output(wait=True)\n",
    "\n",
    "panel = pd.DataFrame.from_dict(d1).T\n",
    "panel.columns = ['lab'+str(i) for i in range(1,11,1)]\n",
    "panel.index.set_names(['provincia','year'], inplace=True)\n",
    "list_df = list()\n",
    "\n",
    "d1=dict()\n",
    "for item in df[df.ingrsal_r>0].groupby(['provincia','year']):\n",
    "    d1[item[0]] = weighted_percentile(item[1].ingrsal_r,range(10,110,10), item[1].fexp)\n",
    "    print('Salarial ',item[0][1],item[0][0])\n",
    "    clear_output(wait=True)\n",
    "\n",
    "panel1 = pd.DataFrame.from_dict(d1,).T\n",
    "panel1.columns = ['sal'+str(i) for i in range(1,11,1)]\n",
    "panel1.index.set_names(['provincia','year'], inplace=True)\n",
    "list_df.append(panel1)\n",
    "\n",
    "d1=dict()\n",
    "for item in df[df.ingrcp_r>0].groupby(['provincia','year']):\n",
    "    d1[item[0]] = weighted_percentile(item[1].ingrcp_r,range(10,110,10), item[1].fexp)\n",
    "    print('Cuenta Propia ',item[0][1],item[0][0])\n",
    "    clear_output(wait=True)\n",
    "\n",
    "panel1 = pd.DataFrame.from_dict(d1,).T\n",
    "panel1.columns = ['cp'+str(i) for i in range(1,11,1)]\n",
    "panel1.index.set_names(['provincia','year'], inplace=True)\n",
    "list_df.append(panel1)\n",
    "\n",
    "list_df.append(df.pivot_table('sbu_r', ['provincia','year'])) # SBU OK\n",
    "list_df.append(pd.crosstab([df.provincia,df.year],[df.fa_ingrl], df.fexp, aggfunc=np.sum, normalize='index', dropna=False))  # Fraction at ingreso laboral\n",
    "list_df.append(pd.crosstab([df.provincia,df.year],[df.fa_ingrsal], df.fexp, aggfunc=np.sum, normalize='index', dropna=False))  # Fraction at ingreso salarial\n",
    "list_df.append(pd.crosstab([df.provincia,df.year],[df.fa_ingrcp], df.fexp, aggfunc=np.sum, normalize='index', dropna=False))  # Fraction at ingreso cuenta propia\n",
    "list_df.append(pd.crosstab([df.provincia,df.year],[df.fb_ingrl], df.fexp, aggfunc=np.sum, normalize='index', dropna=False))  # Fraction below ingreso laboral\n",
    "list_df.append(pd.crosstab([df.provincia,df.year],[df.fb_ingrsal], df.fexp, aggfunc=np.sum, normalize='index', dropna=False))  # Fraction below ingreso salarial\n",
    "list_df.append(pd.crosstab([df.provincia,df.year],[df.fb_ingrcp], df.fexp, aggfunc=np.sum, normalize='index', dropna=False))  # Fraction below ingreso cuenta propia\n",
    "list_df.append(pd.crosstab([df.provincia,df.year],[df.faf_ingrl], df.fexp, aggfunc=np.sum, normalize='index', dropna=False))  # Fraction affected ingreso laboral\n",
    "list_df.append(pd.crosstab([df.provincia,df.year],[df.faf_ingrsal], df.fexp, aggfunc=np.sum, normalize='index', dropna=False))  # Fraction affected ingreso salarial\n",
    "list_df.append(pd.crosstab([df.provincia,df.year],[df.faf_ingrcp], df.fexp, aggfunc=np.sum, normalize='index', dropna=False))  # Fraction affected ingreso cuenta propia\n",
    "\n",
    "list_df.append(pd.crosstab([df.provincia,df.year],[df.informal_ss], df.fexp, aggfunc=np.sum, normalize='index', dropna=False)) # Informalidad por seguridad social OK\n",
    "list_df.append(pd.crosstab([df.provincia,df.year],[df.p02_desc], df.fexp, aggfunc=np.sum, normalize='index', dropna=False)) # Sexo OK\n",
    "list_df.append(pd.crosstab([df.provincia,df.year],[df.p15_desc], normalize='index', dropna=False)) # Etnia OK\n",
    "list_df.append(pd.crosstab([df.provincia,df.year],[df.p10a_desc], df.fexp, aggfunc=np.sum, normalize='index', dropna=False)) # Nivel de educación OK\n",
    "list_df.append(pd.crosstab([df.provincia,df.year],[df.area_desc], df.fexp, aggfunc=np.sum, normalize='index', dropna=False)) # Urbano o rural OK\n",
    "# list_df.append(pd.crosstab([df.provincia,df.year],[df.grupo1_desc], df.fexp, aggfunc=np.sum, normalize='index', dropna=False)) # Industria\n",
    "list_df.append(pd.crosstab([df.provincia,df.year],[df.rama1_desc.str[0]], df.fexp, aggfunc=np.sum, normalize='index', dropna=False)) # Industria\n",
    "\n",
    "for item in list_df:\n",
    "    panel = panel.merge(item, how='left', left_index=True, right_index=True)\n",
    "\n",
    "for col in [col for col in panel.columns if col.startswith(('lab','sal','cp','sbu'))]:\n",
    "    panel['l'+col] = np.log(panel[col])\n",
    "    panel['dl'+col] = panel['l'+col].groupby(level=0).transform(pd.DataFrame.diff)\n",
    "\n",
    "for col in [col for col in panel.columns if col.startswith(('fa_','fb_','faf_'))]:\n",
    "    panel['d'+col] = panel[col].groupby(level=0).transform(pd.DataFrame.diff)\n",
    "\n",
    "# panel.columns = [str(col) for col in panel.columns]\n",
    "panel.reset_index(inplace=True)\n",
    "panel.columns = [unidecode(str(col).lower().replace(' ','_')) for col in panel.columns]\n",
    "panel['year'] = panel.year.str[0:4].astype(int)\n",
    "panel['provincia'] = panel.provincia.apply(unidecode)\n",
    "panel = panel[panel.year<2018]\n",
    "panel.set_index(['provincia','year'], inplace=True)\n",
    "# panel\n",
    "\n",
    "for col in panel.columns:\n",
    "    print(col, end=' ')"
   ]
  },
  {
   "cell_type": "code",
   "execution_count": 13,
   "metadata": {},
   "outputs": [
    {
     "data": {
      "text/html": [
       "<div>\n",
       "<style scoped>\n",
       "    .dataframe tbody tr th:only-of-type {\n",
       "        vertical-align: middle;\n",
       "    }\n",
       "\n",
       "    .dataframe tbody tr th {\n",
       "        vertical-align: top;\n",
       "    }\n",
       "\n",
       "    .dataframe thead th {\n",
       "        text-align: right;\n",
       "    }\n",
       "</style>\n",
       "<table border=\"1\" class=\"dataframe\">\n",
       "  <thead>\n",
       "    <tr style=\"text-align: right;\">\n",
       "      <th></th>\n",
       "      <th></th>\n",
       "      <th>lab1</th>\n",
       "      <th>lab2</th>\n",
       "      <th>lab3</th>\n",
       "      <th>lab4</th>\n",
       "      <th>lab5</th>\n",
       "      <th>lab6</th>\n",
       "      <th>lab7</th>\n",
       "      <th>lab8</th>\n",
       "      <th>lab9</th>\n",
       "      <th>lab10</th>\n",
       "      <th>...</th>\n",
       "      <th>dlsbu_r</th>\n",
       "      <th>dfa_ingrl</th>\n",
       "      <th>dfa_ingrsal</th>\n",
       "      <th>dfa_ingrcp</th>\n",
       "      <th>dfb_ingrl</th>\n",
       "      <th>dfb_ingrsal</th>\n",
       "      <th>dfb_ingrcp</th>\n",
       "      <th>dfaf_ingrl</th>\n",
       "      <th>dfaf_ingrsal</th>\n",
       "      <th>dfaf_ingrcp</th>\n",
       "    </tr>\n",
       "    <tr>\n",
       "      <th>provincia</th>\n",
       "      <th>year</th>\n",
       "      <th></th>\n",
       "      <th></th>\n",
       "      <th></th>\n",
       "      <th></th>\n",
       "      <th></th>\n",
       "      <th></th>\n",
       "      <th></th>\n",
       "      <th></th>\n",
       "      <th></th>\n",
       "      <th></th>\n",
       "      <th></th>\n",
       "      <th></th>\n",
       "      <th></th>\n",
       "      <th></th>\n",
       "      <th></th>\n",
       "      <th></th>\n",
       "      <th></th>\n",
       "      <th></th>\n",
       "      <th></th>\n",
       "      <th></th>\n",
       "      <th></th>\n",
       "    </tr>\n",
       "  </thead>\n",
       "  <tbody>\n",
       "    <tr>\n",
       "      <th rowspan=\"5\" valign=\"top\">Amazonia</th>\n",
       "      <th>2007</th>\n",
       "      <td>50.322251</td>\n",
       "      <td>85.626458</td>\n",
       "      <td>136.246405</td>\n",
       "      <td>189.414450</td>\n",
       "      <td>245.243529</td>\n",
       "      <td>313.366732</td>\n",
       "      <td>408.739215</td>\n",
       "      <td>544.985620</td>\n",
       "      <td>817.478431</td>\n",
       "      <td>37274.291506</td>\n",
       "      <td>...</td>\n",
       "      <td>NaN</td>\n",
       "      <td>NaN</td>\n",
       "      <td>NaN</td>\n",
       "      <td>NaN</td>\n",
       "      <td>NaN</td>\n",
       "      <td>NaN</td>\n",
       "      <td>NaN</td>\n",
       "      <td>NaN</td>\n",
       "      <td>NaN</td>\n",
       "      <td>NaN</td>\n",
       "    </tr>\n",
       "    <tr>\n",
       "      <th>2008</th>\n",
       "      <td>62.595666</td>\n",
       "      <td>100.153066</td>\n",
       "      <td>150.229599</td>\n",
       "      <td>200.306132</td>\n",
       "      <td>250.382665</td>\n",
       "      <td>325.497465</td>\n",
       "      <td>438.169664</td>\n",
       "      <td>600.918397</td>\n",
       "      <td>826.262796</td>\n",
       "      <td>19404.656565</td>\n",
       "      <td>...</td>\n",
       "      <td>0.077897</td>\n",
       "      <td>0.045046</td>\n",
       "      <td>0.035791</td>\n",
       "      <td>0.006129</td>\n",
       "      <td>-0.007225</td>\n",
       "      <td>-0.007210</td>\n",
       "      <td>-0.005366</td>\n",
       "      <td>0.066562</td>\n",
       "      <td>0.040709</td>\n",
       "      <td>0.007551</td>\n",
       "    </tr>\n",
       "    <tr>\n",
       "      <th>2009</th>\n",
       "      <td>48.006611</td>\n",
       "      <td>84.011569</td>\n",
       "      <td>141.619503</td>\n",
       "      <td>180.024792</td>\n",
       "      <td>217.598266</td>\n",
       "      <td>281.626709</td>\n",
       "      <td>354.048757</td>\n",
       "      <td>488.131515</td>\n",
       "      <td>734.345237</td>\n",
       "      <td>6540.900758</td>\n",
       "      <td>...</td>\n",
       "      <td>0.043964</td>\n",
       "      <td>-0.009124</td>\n",
       "      <td>-0.001727</td>\n",
       "      <td>-0.005936</td>\n",
       "      <td>0.071734</td>\n",
       "      <td>0.027604</td>\n",
       "      <td>0.017493</td>\n",
       "      <td>-0.038522</td>\n",
       "      <td>-0.016008</td>\n",
       "      <td>-0.005936</td>\n",
       "    </tr>\n",
       "    <tr>\n",
       "      <th>2010</th>\n",
       "      <td>58.075491</td>\n",
       "      <td>116.150982</td>\n",
       "      <td>162.611375</td>\n",
       "      <td>216.753996</td>\n",
       "      <td>278.762357</td>\n",
       "      <td>330.680358</td>\n",
       "      <td>383.530567</td>\n",
       "      <td>546.363070</td>\n",
       "      <td>782.798978</td>\n",
       "      <td>4953.839393</td>\n",
       "      <td>...</td>\n",
       "      <td>0.063405</td>\n",
       "      <td>0.016550</td>\n",
       "      <td>0.013099</td>\n",
       "      <td>0.000635</td>\n",
       "      <td>-0.046521</td>\n",
       "      <td>-0.002879</td>\n",
       "      <td>-0.007295</td>\n",
       "      <td>0.006554</td>\n",
       "      <td>0.004125</td>\n",
       "      <td>-0.001363</td>\n",
       "    </tr>\n",
       "    <tr>\n",
       "      <th>2011</th>\n",
       "      <td>57.031872</td>\n",
       "      <td>110.190364</td>\n",
       "      <td>165.285546</td>\n",
       "      <td>220.380728</td>\n",
       "      <td>286.494947</td>\n",
       "      <td>363.628202</td>\n",
       "      <td>440.761457</td>\n",
       "      <td>612.343979</td>\n",
       "      <td>984.648207</td>\n",
       "      <td>6060.470032</td>\n",
       "      <td>...</td>\n",
       "      <td>0.042629</td>\n",
       "      <td>-0.021837</td>\n",
       "      <td>-0.033761</td>\n",
       "      <td>-0.000717</td>\n",
       "      <td>-0.009813</td>\n",
       "      <td>-0.037378</td>\n",
       "      <td>0.003791</td>\n",
       "      <td>-0.015523</td>\n",
       "      <td>-0.020191</td>\n",
       "      <td>0.000485</td>\n",
       "    </tr>\n",
       "  </tbody>\n",
       "</table>\n",
       "<p>5 rows × 155 columns</p>\n",
       "</div>"
      ],
      "text/plain": [
       "                     lab1        lab2        lab3        lab4        lab5  \\\n",
       "provincia year                                                              \n",
       "Amazonia  2007  50.322251   85.626458  136.246405  189.414450  245.243529   \n",
       "          2008  62.595666  100.153066  150.229599  200.306132  250.382665   \n",
       "          2009  48.006611   84.011569  141.619503  180.024792  217.598266   \n",
       "          2010  58.075491  116.150982  162.611375  216.753996  278.762357   \n",
       "          2011  57.031872  110.190364  165.285546  220.380728  286.494947   \n",
       "\n",
       "                      lab6        lab7        lab8        lab9         lab10  \\\n",
       "provincia year                                                                 \n",
       "Amazonia  2007  313.366732  408.739215  544.985620  817.478431  37274.291506   \n",
       "          2008  325.497465  438.169664  600.918397  826.262796  19404.656565   \n",
       "          2009  281.626709  354.048757  488.131515  734.345237   6540.900758   \n",
       "          2010  330.680358  383.530567  546.363070  782.798978   4953.839393   \n",
       "          2011  363.628202  440.761457  612.343979  984.648207   6060.470032   \n",
       "\n",
       "                ...   dlsbu_r  dfa_ingrl  dfa_ingrsal  dfa_ingrcp  dfb_ingrl  \\\n",
       "provincia year  ...                                                            \n",
       "Amazonia  2007  ...       NaN        NaN          NaN         NaN        NaN   \n",
       "          2008  ...  0.077897   0.045046     0.035791    0.006129  -0.007225   \n",
       "          2009  ...  0.043964  -0.009124    -0.001727   -0.005936   0.071734   \n",
       "          2010  ...  0.063405   0.016550     0.013099    0.000635  -0.046521   \n",
       "          2011  ...  0.042629  -0.021837    -0.033761   -0.000717  -0.009813   \n",
       "\n",
       "                dfb_ingrsal  dfb_ingrcp  dfaf_ingrl  dfaf_ingrsal  dfaf_ingrcp  \n",
       "provincia year                                                                  \n",
       "Amazonia  2007          NaN         NaN         NaN           NaN          NaN  \n",
       "          2008    -0.007210   -0.005366    0.066562      0.040709     0.007551  \n",
       "          2009     0.027604    0.017493   -0.038522     -0.016008    -0.005936  \n",
       "          2010    -0.002879   -0.007295    0.006554      0.004125    -0.001363  \n",
       "          2011    -0.037378    0.003791   -0.015523     -0.020191     0.000485  \n",
       "\n",
       "[5 rows x 155 columns]"
      ]
     },
     "execution_count": 13,
     "metadata": {},
     "output_type": "execute_result"
    }
   ],
   "source": [
    "panel.head()"
   ]
  },
  {
   "cell_type": "markdown",
   "metadata": {},
   "source": [
    "# Modelo"
   ]
  },
  {
   "cell_type": "code",
   "execution_count": 9,
   "metadata": {},
   "outputs": [],
   "source": [
    "mod = PanelOLS(panel.dllab1, panel.dfa_ingrl, entity_effects=True)\n",
    "res = mod.fit()\n",
    "df_res = pd.DataFrame()"
   ]
  },
  {
   "cell_type": "code",
   "execution_count": 10,
   "metadata": {},
   "outputs": [
    {
     "ename": "NameError",
     "evalue": "name 'star' is not defined",
     "output_type": "error",
     "traceback": [
      "\u001b[1;31m---------------------------------------------------------------------------\u001b[0m",
      "\u001b[1;31mNameError\u001b[0m                                 Traceback (most recent call last)",
      "\u001b[1;32m<ipython-input-10-87cb46d6dc63>\u001b[0m in \u001b[0;36m<module>\u001b[1;34m\u001b[0m\n\u001b[1;32m----> 1\u001b[1;33m \u001b[0mpd\u001b[0m\u001b[1;33m.\u001b[0m\u001b[0mDataFrame\u001b[0m\u001b[1;33m(\u001b[0m\u001b[1;33m[\u001b[0m\u001b[0mres\u001b[0m\u001b[1;33m.\u001b[0m\u001b[0mparams\u001b[0m\u001b[1;33m,\u001b[0m\u001b[0mres\u001b[0m\u001b[1;33m.\u001b[0m\u001b[0mpvalues\u001b[0m\u001b[1;33m.\u001b[0m\u001b[0mapply\u001b[0m\u001b[1;33m(\u001b[0m\u001b[0mstar\u001b[0m\u001b[1;33m)\u001b[0m\u001b[1;33m]\u001b[0m\u001b[1;33m)\u001b[0m\u001b[1;33m\u001b[0m\u001b[1;33m\u001b[0m\u001b[0m\n\u001b[0m\u001b[0;32m      2\u001b[0m \u001b[1;31m# pd.DataFrame([res.pvalues.apply(star)])\u001b[0m\u001b[1;33m\u001b[0m\u001b[1;33m\u001b[0m\u001b[1;33m\u001b[0m\u001b[0m\n\u001b[0;32m      3\u001b[0m \u001b[0mpanel\u001b[0m\u001b[1;33m.\u001b[0m\u001b[0mcolumns\u001b[0m\u001b[1;33m\u001b[0m\u001b[1;33m\u001b[0m\u001b[0m\n",
      "\u001b[1;31mNameError\u001b[0m: name 'star' is not defined"
     ]
    }
   ],
   "source": [
    "pd.DataFrame([res.params,res.pvalues.apply(star)])\n",
    "# pd.DataFrame([res.pvalues.apply(star)])\n",
    "panel.columns"
   ]
  },
  {
   "cell_type": "code",
   "execution_count": null,
   "metadata": {},
   "outputs": [],
   "source": [
    "list_res = list()\n",
    "for decil in range(1,11,1):\n",
    "    res = PanelOLS.from_formula(f'dllab{decil} ~ dfa_ingrl + EntityEffects',panel).fit()\n",
    "    list_res.append(pd.DataFrame(res.params.apply(np.round,args=(3,)).astype(str)+res.pvalues.apply(star),columns=['D'+str(decil)]))\n",
    "#     res = PanelOLS.from_formula(f'dllab{decil} ~ dfa_ingrl + informal_ss + EntityEffects',panel).fit()\n",
    "#     list_res.append(pd.DataFrame(res.params.apply(np.round,args=(3,)).astype(str)+res.pvalues.apply(star),columns=['D'+str(decil)]))\n",
    "\n",
    "pd.concat(list_res,axis=1).T\n"
   ]
  },
  {
   "cell_type": "code",
   "execution_count": null,
   "metadata": {},
   "outputs": [],
   "source": [
    "endog = 'dllab1'\n",
    "exog = ['dlfa1']\n",
    "control = "
   ]
  },
  {
   "cell_type": "code",
   "execution_count": null,
   "metadata": {},
   "outputs": [],
   "source": [
    "def star(pval):\n",
    "    if pval<0.01:\n",
    "        s=' ***'\n",
    "    elif pval<0.05: \n",
    "        s=' **'\n",
    "    elif pval<0.1:\n",
    "        s=' *'\n",
    "    else:\n",
    "        s=' '\n",
    "    return s"
   ]
  },
  {
   "cell_type": "code",
   "execution_count": null,
   "metadata": {},
   "outputs": [],
   "source": [
    "star"
   ]
  },
  {
   "cell_type": "code",
   "execution_count": null,
   "metadata": {},
   "outputs": [],
   "source": [
    "res.params.name"
   ]
  },
  {
   "cell_type": "code",
   "execution_count": 11,
   "metadata": {
    "collapsed": true,
    "jupyter": {
     "outputs_hidden": true
    }
   },
   "outputs": [
    {
     "ename": "com_error",
     "evalue": "(-2147221005, 'Invalid class string', None, None)",
     "output_type": "error",
     "traceback": [
      "\u001b[1;31m---------------------------------------------------------------------------\u001b[0m",
      "\u001b[1;31mcom_error\u001b[0m                                 Traceback (most recent call last)",
      "\u001b[1;32mc:\\users\\alejo\\appdata\\local\\programs\\python\\python37\\lib\\site-packages\\win32com\\client\\dynamic.py\u001b[0m in \u001b[0;36m_GetGoodDispatch\u001b[1;34m(IDispatch, clsctx)\u001b[0m\n\u001b[0;32m     88\u001b[0m                 \u001b[1;32mtry\u001b[0m\u001b[1;33m:\u001b[0m\u001b[1;33m\u001b[0m\u001b[1;33m\u001b[0m\u001b[0m\n\u001b[1;32m---> 89\u001b[1;33m                         \u001b[0mIDispatch\u001b[0m \u001b[1;33m=\u001b[0m \u001b[0mpythoncom\u001b[0m\u001b[1;33m.\u001b[0m\u001b[0mconnect\u001b[0m\u001b[1;33m(\u001b[0m\u001b[0mIDispatch\u001b[0m\u001b[1;33m)\u001b[0m\u001b[1;33m\u001b[0m\u001b[1;33m\u001b[0m\u001b[0m\n\u001b[0m\u001b[0;32m     90\u001b[0m                 \u001b[1;32mexcept\u001b[0m \u001b[0mpythoncom\u001b[0m\u001b[1;33m.\u001b[0m\u001b[0mole_error\u001b[0m\u001b[1;33m:\u001b[0m\u001b[1;33m\u001b[0m\u001b[1;33m\u001b[0m\u001b[0m\n",
      "\u001b[1;31mcom_error\u001b[0m: (-2147221005, 'Invalid class string', None, None)",
      "\nDuring handling of the above exception, another exception occurred:\n",
      "\u001b[1;31mcom_error\u001b[0m                                 Traceback (most recent call last)",
      "\u001b[1;32m<ipython-input-11-fb27c4be2d8f>\u001b[0m in \u001b[0;36m<module>\u001b[1;34m\u001b[0m\n\u001b[1;32m----> 1\u001b[1;33m \u001b[0mget_ipython\u001b[0m\u001b[1;33m(\u001b[0m\u001b[1;33m)\u001b[0m\u001b[1;33m.\u001b[0m\u001b[0mrun_cell_magic\u001b[0m\u001b[1;33m(\u001b[0m\u001b[1;34m'stata'\u001b[0m\u001b[1;33m,\u001b[0m \u001b[1;34m'-d panel'\u001b[0m\u001b[1;33m,\u001b[0m \u001b[1;34m'cls\\nencode provincia, gen(cod_provincia)\\nxtset cod_provincia year\\ncd \"C:\\\\Users\\\\alejo\\\\OneDrive - Universidad de Las Américas\\\\Proyectos\\\\Salario Mínimo - Ecuador\"\\n'\u001b[0m\u001b[1;33m)\u001b[0m\u001b[1;33m\u001b[0m\u001b[1;33m\u001b[0m\u001b[0m\n\u001b[0m",
      "\u001b[1;32mc:\\users\\alejo\\appdata\\local\\programs\\python\\python37\\lib\\site-packages\\IPython\\core\\interactiveshell.py\u001b[0m in \u001b[0;36mrun_cell_magic\u001b[1;34m(self, magic_name, line, cell)\u001b[0m\n\u001b[0;32m   2360\u001b[0m             \u001b[1;32mwith\u001b[0m \u001b[0mself\u001b[0m\u001b[1;33m.\u001b[0m\u001b[0mbuiltin_trap\u001b[0m\u001b[1;33m:\u001b[0m\u001b[1;33m\u001b[0m\u001b[1;33m\u001b[0m\u001b[0m\n\u001b[0;32m   2361\u001b[0m                 \u001b[0margs\u001b[0m \u001b[1;33m=\u001b[0m \u001b[1;33m(\u001b[0m\u001b[0mmagic_arg_s\u001b[0m\u001b[1;33m,\u001b[0m \u001b[0mcell\u001b[0m\u001b[1;33m)\u001b[0m\u001b[1;33m\u001b[0m\u001b[1;33m\u001b[0m\u001b[0m\n\u001b[1;32m-> 2362\u001b[1;33m                 \u001b[0mresult\u001b[0m \u001b[1;33m=\u001b[0m \u001b[0mfn\u001b[0m\u001b[1;33m(\u001b[0m\u001b[1;33m*\u001b[0m\u001b[0margs\u001b[0m\u001b[1;33m,\u001b[0m \u001b[1;33m**\u001b[0m\u001b[0mkwargs\u001b[0m\u001b[1;33m)\u001b[0m\u001b[1;33m\u001b[0m\u001b[1;33m\u001b[0m\u001b[0m\n\u001b[0m\u001b[0;32m   2363\u001b[0m             \u001b[1;32mreturn\u001b[0m \u001b[0mresult\u001b[0m\u001b[1;33m\u001b[0m\u001b[1;33m\u001b[0m\u001b[0m\n\u001b[0;32m   2364\u001b[0m \u001b[1;33m\u001b[0m\u001b[0m\n",
      "\u001b[1;32m<decorator-gen-127>\u001b[0m in \u001b[0;36mstata\u001b[1;34m(self, line, cell, local_ns)\u001b[0m\n",
      "\u001b[1;32mc:\\users\\alejo\\appdata\\local\\programs\\python\\python37\\lib\\site-packages\\IPython\\core\\magic.py\u001b[0m in \u001b[0;36m<lambda>\u001b[1;34m(f, *a, **k)\u001b[0m\n\u001b[0;32m    185\u001b[0m     \u001b[1;31m# but it's overkill for just that one bit of state.\u001b[0m\u001b[1;33m\u001b[0m\u001b[1;33m\u001b[0m\u001b[1;33m\u001b[0m\u001b[0m\n\u001b[0;32m    186\u001b[0m     \u001b[1;32mdef\u001b[0m \u001b[0mmagic_deco\u001b[0m\u001b[1;33m(\u001b[0m\u001b[0marg\u001b[0m\u001b[1;33m)\u001b[0m\u001b[1;33m:\u001b[0m\u001b[1;33m\u001b[0m\u001b[1;33m\u001b[0m\u001b[0m\n\u001b[1;32m--> 187\u001b[1;33m         \u001b[0mcall\u001b[0m \u001b[1;33m=\u001b[0m \u001b[1;32mlambda\u001b[0m \u001b[0mf\u001b[0m\u001b[1;33m,\u001b[0m \u001b[1;33m*\u001b[0m\u001b[0ma\u001b[0m\u001b[1;33m,\u001b[0m \u001b[1;33m**\u001b[0m\u001b[0mk\u001b[0m\u001b[1;33m:\u001b[0m \u001b[0mf\u001b[0m\u001b[1;33m(\u001b[0m\u001b[1;33m*\u001b[0m\u001b[0ma\u001b[0m\u001b[1;33m,\u001b[0m \u001b[1;33m**\u001b[0m\u001b[0mk\u001b[0m\u001b[1;33m)\u001b[0m\u001b[1;33m\u001b[0m\u001b[1;33m\u001b[0m\u001b[0m\n\u001b[0m\u001b[0;32m    188\u001b[0m \u001b[1;33m\u001b[0m\u001b[0m\n\u001b[0;32m    189\u001b[0m         \u001b[1;32mif\u001b[0m \u001b[0mcallable\u001b[0m\u001b[1;33m(\u001b[0m\u001b[0marg\u001b[0m\u001b[1;33m)\u001b[0m\u001b[1;33m:\u001b[0m\u001b[1;33m\u001b[0m\u001b[1;33m\u001b[0m\u001b[0m\n",
      "\u001b[1;32mc:\\users\\alejo\\appdata\\local\\programs\\python\\python37\\lib\\site-packages\\ipystata\\ipystata_magic.py\u001b[0m in \u001b[0;36mstata\u001b[1;34m(self, line, cell, local_ns)\u001b[0m\n\u001b[0;32m    318\u001b[0m             \u001b[0mtime\u001b[0m\u001b[1;33m.\u001b[0m\u001b[0msleep\u001b[0m\u001b[1;33m(\u001b[0m\u001b[1;36m0.5\u001b[0m\u001b[1;33m)\u001b[0m\u001b[1;33m\u001b[0m\u001b[1;33m\u001b[0m\u001b[0m\n\u001b[0;32m    319\u001b[0m             \u001b[0mself\u001b[0m\u001b[1;33m.\u001b[0m\u001b[0mlog_dict\u001b[0m\u001b[1;33m[\u001b[0m\u001b[0msession_id\u001b[0m\u001b[1;33m]\u001b[0m \u001b[1;33m=\u001b[0m \u001b[0mos\u001b[0m\u001b[1;33m.\u001b[0m\u001b[0mpath\u001b[0m\u001b[1;33m.\u001b[0m\u001b[0mjoin\u001b[0m\u001b[1;33m(\u001b[0m\u001b[0mself\u001b[0m\u001b[1;33m.\u001b[0m\u001b[0m_lib_dir\u001b[0m\u001b[1;33m,\u001b[0m \u001b[1;34m'log_%s.txt'\u001b[0m \u001b[1;33m%\u001b[0m \u001b[0msession_id\u001b[0m\u001b[1;33m)\u001b[0m\u001b[1;33m\u001b[0m\u001b[1;33m\u001b[0m\u001b[0m\n\u001b[1;32m--> 320\u001b[1;33m             \u001b[0mself\u001b[0m\u001b[1;33m.\u001b[0m\u001b[0msession_dict\u001b[0m\u001b[1;33m[\u001b[0m\u001b[0msession_id\u001b[0m\u001b[1;33m]\u001b[0m \u001b[1;33m=\u001b[0m \u001b[0mwin32com\u001b[0m\u001b[1;33m.\u001b[0m\u001b[0mclient\u001b[0m\u001b[1;33m.\u001b[0m\u001b[0mDispatch\u001b[0m\u001b[1;33m(\u001b[0m\u001b[1;34m\"stata.StataOLEApp\"\u001b[0m\u001b[1;33m)\u001b[0m\u001b[1;33m\u001b[0m\u001b[1;33m\u001b[0m\u001b[0m\n\u001b[0m\u001b[0;32m    321\u001b[0m             \u001b[0mself\u001b[0m\u001b[1;33m.\u001b[0m\u001b[0mdo_dict\u001b[0m\u001b[1;33m[\u001b[0m\u001b[0msession_id\u001b[0m\u001b[1;33m]\u001b[0m \u001b[1;33m=\u001b[0m \u001b[0mself\u001b[0m\u001b[1;33m.\u001b[0m\u001b[0msession_dict\u001b[0m\u001b[1;33m[\u001b[0m\u001b[0msession_id\u001b[0m\u001b[1;33m]\u001b[0m\u001b[1;33m.\u001b[0m\u001b[0mDoCommandAsync\u001b[0m\u001b[1;33m\u001b[0m\u001b[1;33m\u001b[0m\u001b[0m\n\u001b[0;32m    322\u001b[0m             \u001b[0mself\u001b[0m\u001b[1;33m.\u001b[0m\u001b[0msession_dict\u001b[0m\u001b[1;33m[\u001b[0m\u001b[0msession_id\u001b[0m\u001b[1;33m]\u001b[0m\u001b[1;33m.\u001b[0m\u001b[0mUtilShowStata\u001b[0m\u001b[1;33m(\u001b[0m\u001b[1;36m1\u001b[0m\u001b[1;33m)\u001b[0m\u001b[1;33m\u001b[0m\u001b[1;33m\u001b[0m\u001b[0m\n",
      "\u001b[1;32mc:\\users\\alejo\\appdata\\local\\programs\\python\\python37\\lib\\site-packages\\win32com\\client\\__init__.py\u001b[0m in \u001b[0;36mDispatch\u001b[1;34m(dispatch, userName, resultCLSID, typeinfo, UnicodeToString, clsctx)\u001b[0m\n\u001b[0;32m     93\u001b[0m   \"\"\"\n\u001b[0;32m     94\u001b[0m   \u001b[1;32massert\u001b[0m \u001b[0mUnicodeToString\u001b[0m \u001b[1;32mis\u001b[0m \u001b[1;32mNone\u001b[0m\u001b[1;33m,\u001b[0m \u001b[1;34m\"this is deprecated and will go away\"\u001b[0m\u001b[1;33m\u001b[0m\u001b[1;33m\u001b[0m\u001b[0m\n\u001b[1;32m---> 95\u001b[1;33m   \u001b[0mdispatch\u001b[0m\u001b[1;33m,\u001b[0m \u001b[0muserName\u001b[0m \u001b[1;33m=\u001b[0m \u001b[0mdynamic\u001b[0m\u001b[1;33m.\u001b[0m\u001b[0m_GetGoodDispatchAndUserName\u001b[0m\u001b[1;33m(\u001b[0m\u001b[0mdispatch\u001b[0m\u001b[1;33m,\u001b[0m\u001b[0muserName\u001b[0m\u001b[1;33m,\u001b[0m\u001b[0mclsctx\u001b[0m\u001b[1;33m)\u001b[0m\u001b[1;33m\u001b[0m\u001b[1;33m\u001b[0m\u001b[0m\n\u001b[0m\u001b[0;32m     96\u001b[0m   \u001b[1;32mreturn\u001b[0m \u001b[0m__WrapDispatch\u001b[0m\u001b[1;33m(\u001b[0m\u001b[0mdispatch\u001b[0m\u001b[1;33m,\u001b[0m \u001b[0muserName\u001b[0m\u001b[1;33m,\u001b[0m \u001b[0mresultCLSID\u001b[0m\u001b[1;33m,\u001b[0m \u001b[0mtypeinfo\u001b[0m\u001b[1;33m,\u001b[0m \u001b[0mclsctx\u001b[0m\u001b[1;33m=\u001b[0m\u001b[0mclsctx\u001b[0m\u001b[1;33m)\u001b[0m\u001b[1;33m\u001b[0m\u001b[1;33m\u001b[0m\u001b[0m\n\u001b[0;32m     97\u001b[0m \u001b[1;33m\u001b[0m\u001b[0m\n",
      "\u001b[1;32mc:\\users\\alejo\\appdata\\local\\programs\\python\\python37\\lib\\site-packages\\win32com\\client\\dynamic.py\u001b[0m in \u001b[0;36m_GetGoodDispatchAndUserName\u001b[1;34m(IDispatch, userName, clsctx)\u001b[0m\n\u001b[0;32m    112\u001b[0m         \u001b[1;32melse\u001b[0m\u001b[1;33m:\u001b[0m\u001b[1;33m\u001b[0m\u001b[1;33m\u001b[0m\u001b[0m\n\u001b[0;32m    113\u001b[0m                 \u001b[0muserName\u001b[0m \u001b[1;33m=\u001b[0m \u001b[0mstr\u001b[0m\u001b[1;33m(\u001b[0m\u001b[0muserName\u001b[0m\u001b[1;33m)\u001b[0m\u001b[1;33m\u001b[0m\u001b[1;33m\u001b[0m\u001b[0m\n\u001b[1;32m--> 114\u001b[1;33m         \u001b[1;32mreturn\u001b[0m \u001b[1;33m(\u001b[0m\u001b[0m_GetGoodDispatch\u001b[0m\u001b[1;33m(\u001b[0m\u001b[0mIDispatch\u001b[0m\u001b[1;33m,\u001b[0m \u001b[0mclsctx\u001b[0m\u001b[1;33m)\u001b[0m\u001b[1;33m,\u001b[0m \u001b[0muserName\u001b[0m\u001b[1;33m)\u001b[0m\u001b[1;33m\u001b[0m\u001b[1;33m\u001b[0m\u001b[0m\n\u001b[0m\u001b[0;32m    115\u001b[0m \u001b[1;33m\u001b[0m\u001b[0m\n\u001b[0;32m    116\u001b[0m \u001b[1;32mdef\u001b[0m \u001b[0m_GetDescInvokeType\u001b[0m\u001b[1;33m(\u001b[0m\u001b[0mentry\u001b[0m\u001b[1;33m,\u001b[0m \u001b[0minvoke_type\u001b[0m\u001b[1;33m)\u001b[0m\u001b[1;33m:\u001b[0m\u001b[1;33m\u001b[0m\u001b[1;33m\u001b[0m\u001b[0m\n",
      "\u001b[1;32mc:\\users\\alejo\\appdata\\local\\programs\\python\\python37\\lib\\site-packages\\win32com\\client\\dynamic.py\u001b[0m in \u001b[0;36m_GetGoodDispatch\u001b[1;34m(IDispatch, clsctx)\u001b[0m\n\u001b[0;32m     89\u001b[0m                         \u001b[0mIDispatch\u001b[0m \u001b[1;33m=\u001b[0m \u001b[0mpythoncom\u001b[0m\u001b[1;33m.\u001b[0m\u001b[0mconnect\u001b[0m\u001b[1;33m(\u001b[0m\u001b[0mIDispatch\u001b[0m\u001b[1;33m)\u001b[0m\u001b[1;33m\u001b[0m\u001b[1;33m\u001b[0m\u001b[0m\n\u001b[0;32m     90\u001b[0m                 \u001b[1;32mexcept\u001b[0m \u001b[0mpythoncom\u001b[0m\u001b[1;33m.\u001b[0m\u001b[0mole_error\u001b[0m\u001b[1;33m:\u001b[0m\u001b[1;33m\u001b[0m\u001b[1;33m\u001b[0m\u001b[0m\n\u001b[1;32m---> 91\u001b[1;33m                         \u001b[0mIDispatch\u001b[0m \u001b[1;33m=\u001b[0m \u001b[0mpythoncom\u001b[0m\u001b[1;33m.\u001b[0m\u001b[0mCoCreateInstance\u001b[0m\u001b[1;33m(\u001b[0m\u001b[0mIDispatch\u001b[0m\u001b[1;33m,\u001b[0m \u001b[1;32mNone\u001b[0m\u001b[1;33m,\u001b[0m \u001b[0mclsctx\u001b[0m\u001b[1;33m,\u001b[0m \u001b[0mpythoncom\u001b[0m\u001b[1;33m.\u001b[0m\u001b[0mIID_IDispatch\u001b[0m\u001b[1;33m)\u001b[0m\u001b[1;33m\u001b[0m\u001b[1;33m\u001b[0m\u001b[0m\n\u001b[0m\u001b[0;32m     92\u001b[0m         \u001b[1;32melse\u001b[0m\u001b[1;33m:\u001b[0m\u001b[1;33m\u001b[0m\u001b[1;33m\u001b[0m\u001b[0m\n\u001b[0;32m     93\u001b[0m                 \u001b[1;31m# may already be a wrapped class.\u001b[0m\u001b[1;33m\u001b[0m\u001b[1;33m\u001b[0m\u001b[1;33m\u001b[0m\u001b[0m\n",
      "\u001b[1;31mcom_error\u001b[0m: (-2147221005, 'Invalid class string', None, None)"
     ]
    }
   ],
   "source": [
    "%%stata -d panel\n",
    "cls\n",
    "encode provincia, gen(cod_provincia)\n",
    "xtset cod_provincia year\n",
    "cd \"C:\\Users\\alejo\\OneDrive - Universidad de Las Américas\\Proyectos\\Salario Mínimo - Ecuador\""
   ]
  },
  {
   "cell_type": "code",
   "execution_count": null,
   "metadata": {},
   "outputs": [],
   "source": [
    "%%stata\n",
    "display \"hola\""
   ]
  },
  {
   "cell_type": "markdown",
   "metadata": {},
   "source": [
    "**--------------------------INGRESO LABORAL------------------------------------------**"
   ]
  },
  {
   "cell_type": "code",
   "execution_count": 12,
   "metadata": {
    "collapsed": true,
    "jupyter": {
     "outputs_hidden": true
    }
   },
   "outputs": [
    {
     "ename": "com_error",
     "evalue": "(-2147221005, 'Invalid class string', None, None)",
     "output_type": "error",
     "traceback": [
      "\u001b[1;31m---------------------------------------------------------------------------\u001b[0m",
      "\u001b[1;31mcom_error\u001b[0m                                 Traceback (most recent call last)",
      "\u001b[1;32mc:\\users\\alejo\\appdata\\local\\programs\\python\\python37\\lib\\site-packages\\win32com\\client\\dynamic.py\u001b[0m in \u001b[0;36m_GetGoodDispatch\u001b[1;34m(IDispatch, clsctx)\u001b[0m\n\u001b[0;32m     88\u001b[0m                 \u001b[1;32mtry\u001b[0m\u001b[1;33m:\u001b[0m\u001b[1;33m\u001b[0m\u001b[1;33m\u001b[0m\u001b[0m\n\u001b[1;32m---> 89\u001b[1;33m                         \u001b[0mIDispatch\u001b[0m \u001b[1;33m=\u001b[0m \u001b[0mpythoncom\u001b[0m\u001b[1;33m.\u001b[0m\u001b[0mconnect\u001b[0m\u001b[1;33m(\u001b[0m\u001b[0mIDispatch\u001b[0m\u001b[1;33m)\u001b[0m\u001b[1;33m\u001b[0m\u001b[1;33m\u001b[0m\u001b[0m\n\u001b[0m\u001b[0;32m     90\u001b[0m                 \u001b[1;32mexcept\u001b[0m \u001b[0mpythoncom\u001b[0m\u001b[1;33m.\u001b[0m\u001b[0mole_error\u001b[0m\u001b[1;33m:\u001b[0m\u001b[1;33m\u001b[0m\u001b[1;33m\u001b[0m\u001b[0m\n",
      "\u001b[1;31mcom_error\u001b[0m: (-2147221005, 'Invalid class string', None, None)",
      "\nDuring handling of the above exception, another exception occurred:\n",
      "\u001b[1;31mcom_error\u001b[0m                                 Traceback (most recent call last)",
      "\u001b[1;32m<ipython-input-12-ffaa98505c45>\u001b[0m in \u001b[0;36m<module>\u001b[1;34m\u001b[0m\n\u001b[1;32m----> 1\u001b[1;33m \u001b[0mget_ipython\u001b[0m\u001b[1;33m(\u001b[0m\u001b[1;33m)\u001b[0m\u001b[1;33m.\u001b[0m\u001b[0mrun_cell_magic\u001b[0m\u001b[1;33m(\u001b[0m\u001b[1;34m'stata'\u001b[0m\u001b[1;33m,\u001b[0m \u001b[1;34m''\u001b[0m\u001b[1;33m,\u001b[0m \u001b[1;34m'cls\\ndisplay \"--------MODELO 1--------\"\\nforvalues i = 1/9{\\n    quietly xtreg dllab`i\\' dfa_ingrl, fe\\n    estimates store m`i\\', title(Decil `i\\')\\n}\\n* esttab m1 m2 m3 m4 m5 m6 m7 m8 m9 using final1.csv, replace se(a2) compress title(Estimaciones) mtitles b(a2) starlevels(* 0.1 ** 0.05 *** 0.01) stats(r2 N)\\nestout m1 m2 m3 m4 m5 m6 m7 m8 m9, cells(b(star fmt(3)) se) keep(dfa_ingrl _cons) stats(N, fmt(0)) legend label varlabels(_cons constant) starlevels(* 0.1 ** 0.05 *** 0.01)\\nforvalues i = 1/9{\\n    quietly xtreg dllab`i\\' dfa_ingrl mujer afroecuatoriano blanco indigena primaria secundaria terciaria rural b c d e f g h i j k l m n o p q r s t u, fe\\n    estimates store m`i\\', title(Decil `i\\')\\n}\\n* esttab m1 m2 m3 m4 m5 m6 m7 m8 m9 using final2.csv, replace se(a2) compress title(Estimaciones) mtitles b(a2) starlevels(* 0.1 ** 0.05 *** 0.01) stats(r2 N)\\nestout m1 m2 m3 m4 m5 m6 m7 m8 m9, cells(b(star fmt(3))) keep(dfa_ingrl _cons) stats(N, fmt(0)) legend label varlabels(_cons constant) starlevels(* 0.1 ** 0.05 *** 0.01)\\nforvalues i = 1/9{\\n    quietly reg dllab`i\\' dfa_ingrl informal_ss mujer afroecuatoriano blanco indigena primaria secundaria terciaria rural  b c d e f g h i j k l m n o p q r s t u c.year i.cod_provincia c.year##i.cod_provincia\\n    estimates store m`i\\', title(Decil `i\\')\\n}\\n* esttab m1 m2 m3 m4 m5 m6 m7 m8 m9 using final3.csv, replace se(a2) compress title(Estimaciones) mtitles b(a2) starlevels(* 0.1 ** 0.05 *** 0.01) stats(r2 N)\\nestout m1 m2 m3 m4 m5 m6 m7 m8 m9, cells(b(star fmt(3))) keep(dfa_ingrl informal_ss _cons) stats(N, fmt(0)) legend label varlabels(_cons constant) starlevels(* 0.1 ** 0.05 *** 0.01)\\n'\u001b[0m\u001b[1;33m)\u001b[0m\u001b[1;33m\u001b[0m\u001b[1;33m\u001b[0m\u001b[0m\n\u001b[0m",
      "\u001b[1;32mc:\\users\\alejo\\appdata\\local\\programs\\python\\python37\\lib\\site-packages\\IPython\\core\\interactiveshell.py\u001b[0m in \u001b[0;36mrun_cell_magic\u001b[1;34m(self, magic_name, line, cell)\u001b[0m\n\u001b[0;32m   2360\u001b[0m             \u001b[1;32mwith\u001b[0m \u001b[0mself\u001b[0m\u001b[1;33m.\u001b[0m\u001b[0mbuiltin_trap\u001b[0m\u001b[1;33m:\u001b[0m\u001b[1;33m\u001b[0m\u001b[1;33m\u001b[0m\u001b[0m\n\u001b[0;32m   2361\u001b[0m                 \u001b[0margs\u001b[0m \u001b[1;33m=\u001b[0m \u001b[1;33m(\u001b[0m\u001b[0mmagic_arg_s\u001b[0m\u001b[1;33m,\u001b[0m \u001b[0mcell\u001b[0m\u001b[1;33m)\u001b[0m\u001b[1;33m\u001b[0m\u001b[1;33m\u001b[0m\u001b[0m\n\u001b[1;32m-> 2362\u001b[1;33m                 \u001b[0mresult\u001b[0m \u001b[1;33m=\u001b[0m \u001b[0mfn\u001b[0m\u001b[1;33m(\u001b[0m\u001b[1;33m*\u001b[0m\u001b[0margs\u001b[0m\u001b[1;33m,\u001b[0m \u001b[1;33m**\u001b[0m\u001b[0mkwargs\u001b[0m\u001b[1;33m)\u001b[0m\u001b[1;33m\u001b[0m\u001b[1;33m\u001b[0m\u001b[0m\n\u001b[0m\u001b[0;32m   2363\u001b[0m             \u001b[1;32mreturn\u001b[0m \u001b[0mresult\u001b[0m\u001b[1;33m\u001b[0m\u001b[1;33m\u001b[0m\u001b[0m\n\u001b[0;32m   2364\u001b[0m \u001b[1;33m\u001b[0m\u001b[0m\n",
      "\u001b[1;32m<decorator-gen-127>\u001b[0m in \u001b[0;36mstata\u001b[1;34m(self, line, cell, local_ns)\u001b[0m\n",
      "\u001b[1;32mc:\\users\\alejo\\appdata\\local\\programs\\python\\python37\\lib\\site-packages\\IPython\\core\\magic.py\u001b[0m in \u001b[0;36m<lambda>\u001b[1;34m(f, *a, **k)\u001b[0m\n\u001b[0;32m    185\u001b[0m     \u001b[1;31m# but it's overkill for just that one bit of state.\u001b[0m\u001b[1;33m\u001b[0m\u001b[1;33m\u001b[0m\u001b[1;33m\u001b[0m\u001b[0m\n\u001b[0;32m    186\u001b[0m     \u001b[1;32mdef\u001b[0m \u001b[0mmagic_deco\u001b[0m\u001b[1;33m(\u001b[0m\u001b[0marg\u001b[0m\u001b[1;33m)\u001b[0m\u001b[1;33m:\u001b[0m\u001b[1;33m\u001b[0m\u001b[1;33m\u001b[0m\u001b[0m\n\u001b[1;32m--> 187\u001b[1;33m         \u001b[0mcall\u001b[0m \u001b[1;33m=\u001b[0m \u001b[1;32mlambda\u001b[0m \u001b[0mf\u001b[0m\u001b[1;33m,\u001b[0m \u001b[1;33m*\u001b[0m\u001b[0ma\u001b[0m\u001b[1;33m,\u001b[0m \u001b[1;33m**\u001b[0m\u001b[0mk\u001b[0m\u001b[1;33m:\u001b[0m \u001b[0mf\u001b[0m\u001b[1;33m(\u001b[0m\u001b[1;33m*\u001b[0m\u001b[0ma\u001b[0m\u001b[1;33m,\u001b[0m \u001b[1;33m**\u001b[0m\u001b[0mk\u001b[0m\u001b[1;33m)\u001b[0m\u001b[1;33m\u001b[0m\u001b[1;33m\u001b[0m\u001b[0m\n\u001b[0m\u001b[0;32m    188\u001b[0m \u001b[1;33m\u001b[0m\u001b[0m\n\u001b[0;32m    189\u001b[0m         \u001b[1;32mif\u001b[0m \u001b[0mcallable\u001b[0m\u001b[1;33m(\u001b[0m\u001b[0marg\u001b[0m\u001b[1;33m)\u001b[0m\u001b[1;33m:\u001b[0m\u001b[1;33m\u001b[0m\u001b[1;33m\u001b[0m\u001b[0m\n",
      "\u001b[1;32mc:\\users\\alejo\\appdata\\local\\programs\\python\\python37\\lib\\site-packages\\ipystata\\ipystata_magic.py\u001b[0m in \u001b[0;36mstata\u001b[1;34m(self, line, cell, local_ns)\u001b[0m\n\u001b[0;32m    318\u001b[0m             \u001b[0mtime\u001b[0m\u001b[1;33m.\u001b[0m\u001b[0msleep\u001b[0m\u001b[1;33m(\u001b[0m\u001b[1;36m0.5\u001b[0m\u001b[1;33m)\u001b[0m\u001b[1;33m\u001b[0m\u001b[1;33m\u001b[0m\u001b[0m\n\u001b[0;32m    319\u001b[0m             \u001b[0mself\u001b[0m\u001b[1;33m.\u001b[0m\u001b[0mlog_dict\u001b[0m\u001b[1;33m[\u001b[0m\u001b[0msession_id\u001b[0m\u001b[1;33m]\u001b[0m \u001b[1;33m=\u001b[0m \u001b[0mos\u001b[0m\u001b[1;33m.\u001b[0m\u001b[0mpath\u001b[0m\u001b[1;33m.\u001b[0m\u001b[0mjoin\u001b[0m\u001b[1;33m(\u001b[0m\u001b[0mself\u001b[0m\u001b[1;33m.\u001b[0m\u001b[0m_lib_dir\u001b[0m\u001b[1;33m,\u001b[0m \u001b[1;34m'log_%s.txt'\u001b[0m \u001b[1;33m%\u001b[0m \u001b[0msession_id\u001b[0m\u001b[1;33m)\u001b[0m\u001b[1;33m\u001b[0m\u001b[1;33m\u001b[0m\u001b[0m\n\u001b[1;32m--> 320\u001b[1;33m             \u001b[0mself\u001b[0m\u001b[1;33m.\u001b[0m\u001b[0msession_dict\u001b[0m\u001b[1;33m[\u001b[0m\u001b[0msession_id\u001b[0m\u001b[1;33m]\u001b[0m \u001b[1;33m=\u001b[0m \u001b[0mwin32com\u001b[0m\u001b[1;33m.\u001b[0m\u001b[0mclient\u001b[0m\u001b[1;33m.\u001b[0m\u001b[0mDispatch\u001b[0m\u001b[1;33m(\u001b[0m\u001b[1;34m\"stata.StataOLEApp\"\u001b[0m\u001b[1;33m)\u001b[0m\u001b[1;33m\u001b[0m\u001b[1;33m\u001b[0m\u001b[0m\n\u001b[0m\u001b[0;32m    321\u001b[0m             \u001b[0mself\u001b[0m\u001b[1;33m.\u001b[0m\u001b[0mdo_dict\u001b[0m\u001b[1;33m[\u001b[0m\u001b[0msession_id\u001b[0m\u001b[1;33m]\u001b[0m \u001b[1;33m=\u001b[0m \u001b[0mself\u001b[0m\u001b[1;33m.\u001b[0m\u001b[0msession_dict\u001b[0m\u001b[1;33m[\u001b[0m\u001b[0msession_id\u001b[0m\u001b[1;33m]\u001b[0m\u001b[1;33m.\u001b[0m\u001b[0mDoCommandAsync\u001b[0m\u001b[1;33m\u001b[0m\u001b[1;33m\u001b[0m\u001b[0m\n\u001b[0;32m    322\u001b[0m             \u001b[0mself\u001b[0m\u001b[1;33m.\u001b[0m\u001b[0msession_dict\u001b[0m\u001b[1;33m[\u001b[0m\u001b[0msession_id\u001b[0m\u001b[1;33m]\u001b[0m\u001b[1;33m.\u001b[0m\u001b[0mUtilShowStata\u001b[0m\u001b[1;33m(\u001b[0m\u001b[1;36m1\u001b[0m\u001b[1;33m)\u001b[0m\u001b[1;33m\u001b[0m\u001b[1;33m\u001b[0m\u001b[0m\n",
      "\u001b[1;32mc:\\users\\alejo\\appdata\\local\\programs\\python\\python37\\lib\\site-packages\\win32com\\client\\__init__.py\u001b[0m in \u001b[0;36mDispatch\u001b[1;34m(dispatch, userName, resultCLSID, typeinfo, UnicodeToString, clsctx)\u001b[0m\n\u001b[0;32m     93\u001b[0m   \"\"\"\n\u001b[0;32m     94\u001b[0m   \u001b[1;32massert\u001b[0m \u001b[0mUnicodeToString\u001b[0m \u001b[1;32mis\u001b[0m \u001b[1;32mNone\u001b[0m\u001b[1;33m,\u001b[0m \u001b[1;34m\"this is deprecated and will go away\"\u001b[0m\u001b[1;33m\u001b[0m\u001b[1;33m\u001b[0m\u001b[0m\n\u001b[1;32m---> 95\u001b[1;33m   \u001b[0mdispatch\u001b[0m\u001b[1;33m,\u001b[0m \u001b[0muserName\u001b[0m \u001b[1;33m=\u001b[0m \u001b[0mdynamic\u001b[0m\u001b[1;33m.\u001b[0m\u001b[0m_GetGoodDispatchAndUserName\u001b[0m\u001b[1;33m(\u001b[0m\u001b[0mdispatch\u001b[0m\u001b[1;33m,\u001b[0m\u001b[0muserName\u001b[0m\u001b[1;33m,\u001b[0m\u001b[0mclsctx\u001b[0m\u001b[1;33m)\u001b[0m\u001b[1;33m\u001b[0m\u001b[1;33m\u001b[0m\u001b[0m\n\u001b[0m\u001b[0;32m     96\u001b[0m   \u001b[1;32mreturn\u001b[0m \u001b[0m__WrapDispatch\u001b[0m\u001b[1;33m(\u001b[0m\u001b[0mdispatch\u001b[0m\u001b[1;33m,\u001b[0m \u001b[0muserName\u001b[0m\u001b[1;33m,\u001b[0m \u001b[0mresultCLSID\u001b[0m\u001b[1;33m,\u001b[0m \u001b[0mtypeinfo\u001b[0m\u001b[1;33m,\u001b[0m \u001b[0mclsctx\u001b[0m\u001b[1;33m=\u001b[0m\u001b[0mclsctx\u001b[0m\u001b[1;33m)\u001b[0m\u001b[1;33m\u001b[0m\u001b[1;33m\u001b[0m\u001b[0m\n\u001b[0;32m     97\u001b[0m \u001b[1;33m\u001b[0m\u001b[0m\n",
      "\u001b[1;32mc:\\users\\alejo\\appdata\\local\\programs\\python\\python37\\lib\\site-packages\\win32com\\client\\dynamic.py\u001b[0m in \u001b[0;36m_GetGoodDispatchAndUserName\u001b[1;34m(IDispatch, userName, clsctx)\u001b[0m\n\u001b[0;32m    112\u001b[0m         \u001b[1;32melse\u001b[0m\u001b[1;33m:\u001b[0m\u001b[1;33m\u001b[0m\u001b[1;33m\u001b[0m\u001b[0m\n\u001b[0;32m    113\u001b[0m                 \u001b[0muserName\u001b[0m \u001b[1;33m=\u001b[0m \u001b[0mstr\u001b[0m\u001b[1;33m(\u001b[0m\u001b[0muserName\u001b[0m\u001b[1;33m)\u001b[0m\u001b[1;33m\u001b[0m\u001b[1;33m\u001b[0m\u001b[0m\n\u001b[1;32m--> 114\u001b[1;33m         \u001b[1;32mreturn\u001b[0m \u001b[1;33m(\u001b[0m\u001b[0m_GetGoodDispatch\u001b[0m\u001b[1;33m(\u001b[0m\u001b[0mIDispatch\u001b[0m\u001b[1;33m,\u001b[0m \u001b[0mclsctx\u001b[0m\u001b[1;33m)\u001b[0m\u001b[1;33m,\u001b[0m \u001b[0muserName\u001b[0m\u001b[1;33m)\u001b[0m\u001b[1;33m\u001b[0m\u001b[1;33m\u001b[0m\u001b[0m\n\u001b[0m\u001b[0;32m    115\u001b[0m \u001b[1;33m\u001b[0m\u001b[0m\n\u001b[0;32m    116\u001b[0m \u001b[1;32mdef\u001b[0m \u001b[0m_GetDescInvokeType\u001b[0m\u001b[1;33m(\u001b[0m\u001b[0mentry\u001b[0m\u001b[1;33m,\u001b[0m \u001b[0minvoke_type\u001b[0m\u001b[1;33m)\u001b[0m\u001b[1;33m:\u001b[0m\u001b[1;33m\u001b[0m\u001b[1;33m\u001b[0m\u001b[0m\n",
      "\u001b[1;32mc:\\users\\alejo\\appdata\\local\\programs\\python\\python37\\lib\\site-packages\\win32com\\client\\dynamic.py\u001b[0m in \u001b[0;36m_GetGoodDispatch\u001b[1;34m(IDispatch, clsctx)\u001b[0m\n\u001b[0;32m     89\u001b[0m                         \u001b[0mIDispatch\u001b[0m \u001b[1;33m=\u001b[0m \u001b[0mpythoncom\u001b[0m\u001b[1;33m.\u001b[0m\u001b[0mconnect\u001b[0m\u001b[1;33m(\u001b[0m\u001b[0mIDispatch\u001b[0m\u001b[1;33m)\u001b[0m\u001b[1;33m\u001b[0m\u001b[1;33m\u001b[0m\u001b[0m\n\u001b[0;32m     90\u001b[0m                 \u001b[1;32mexcept\u001b[0m \u001b[0mpythoncom\u001b[0m\u001b[1;33m.\u001b[0m\u001b[0mole_error\u001b[0m\u001b[1;33m:\u001b[0m\u001b[1;33m\u001b[0m\u001b[1;33m\u001b[0m\u001b[0m\n\u001b[1;32m---> 91\u001b[1;33m                         \u001b[0mIDispatch\u001b[0m \u001b[1;33m=\u001b[0m \u001b[0mpythoncom\u001b[0m\u001b[1;33m.\u001b[0m\u001b[0mCoCreateInstance\u001b[0m\u001b[1;33m(\u001b[0m\u001b[0mIDispatch\u001b[0m\u001b[1;33m,\u001b[0m \u001b[1;32mNone\u001b[0m\u001b[1;33m,\u001b[0m \u001b[0mclsctx\u001b[0m\u001b[1;33m,\u001b[0m \u001b[0mpythoncom\u001b[0m\u001b[1;33m.\u001b[0m\u001b[0mIID_IDispatch\u001b[0m\u001b[1;33m)\u001b[0m\u001b[1;33m\u001b[0m\u001b[1;33m\u001b[0m\u001b[0m\n\u001b[0m\u001b[0;32m     92\u001b[0m         \u001b[1;32melse\u001b[0m\u001b[1;33m:\u001b[0m\u001b[1;33m\u001b[0m\u001b[1;33m\u001b[0m\u001b[0m\n\u001b[0;32m     93\u001b[0m                 \u001b[1;31m# may already be a wrapped class.\u001b[0m\u001b[1;33m\u001b[0m\u001b[1;33m\u001b[0m\u001b[1;33m\u001b[0m\u001b[0m\n",
      "\u001b[1;31mcom_error\u001b[0m: (-2147221005, 'Invalid class string', None, None)"
     ]
    }
   ],
   "source": [
    "%%stata\n",
    "cls\n",
    "display \"--------MODELO 1--------\"\n",
    "forvalues i = 1/9{\n",
    "    quietly xtreg dllab`i' dfa_ingrl, fe\n",
    "    estimates store m`i', title(Decil `i')\n",
    "}\n",
    "* esttab m1 m2 m3 m4 m5 m6 m7 m8 m9 using final1.csv, replace se(a2) compress title(Estimaciones) mtitles b(a2) starlevels(* 0.1 ** 0.05 *** 0.01) stats(r2 N)\n",
    "estout m1 m2 m3 m4 m5 m6 m7 m8 m9, cells(b(star fmt(3)) se) keep(dfa_ingrl _cons) stats(N, fmt(0)) legend label varlabels(_cons constant) starlevels(* 0.1 ** 0.05 *** 0.01)\n",
    "forvalues i = 1/9{\n",
    "    quietly xtreg dllab`i' dfa_ingrl mujer afroecuatoriano blanco indigena primaria secundaria terciaria rural b c d e f g h i j k l m n o p q r s t u, fe\n",
    "    estimates store m`i', title(Decil `i')\n",
    "}\n",
    "* esttab m1 m2 m3 m4 m5 m6 m7 m8 m9 using final2.csv, replace se(a2) compress title(Estimaciones) mtitles b(a2) starlevels(* 0.1 ** 0.05 *** 0.01) stats(r2 N)\n",
    "estout m1 m2 m3 m4 m5 m6 m7 m8 m9, cells(b(star fmt(3))) keep(dfa_ingrl _cons) stats(N, fmt(0)) legend label varlabels(_cons constant) starlevels(* 0.1 ** 0.05 *** 0.01)\n",
    "forvalues i = 1/9{\n",
    "    quietly reg dllab`i' dfa_ingrl informal_ss mujer afroecuatoriano blanco indigena primaria secundaria terciaria rural  b c d e f g h i j k l m n o p q r s t u c.year i.cod_provincia c.year##i.cod_provincia\n",
    "    estimates store m`i', title(Decil `i')\n",
    "}\n",
    "* esttab m1 m2 m3 m4 m5 m6 m7 m8 m9 using final3.csv, replace se(a2) compress title(Estimaciones) mtitles b(a2) starlevels(* 0.1 ** 0.05 *** 0.01) stats(r2 N)\n",
    "estout m1 m2 m3 m4 m5 m6 m7 m8 m9, cells(b(star fmt(3))) keep(dfa_ingrl informal_ss _cons) stats(N, fmt(0)) legend label varlabels(_cons constant) starlevels(* 0.1 ** 0.05 *** 0.01)"
   ]
  },
  {
   "cell_type": "code",
   "execution_count": 20,
   "metadata": {},
   "outputs": [
    {
     "name": "stdout",
     "output_type": "stream",
     "text": [
      "--------MODELO 2--------\n",
      "\n",
      "------------------------------------------------------------------------------------------------------------------------------------------------------------------\n",
      "                          Decil 1         Decil 2         Decil 3         Decil 4         Decil 5         Decil 6         Decil 7         Decil 8         Decil 9 \n",
      "                                b               b               b               b               b               b               b               b               b \n",
      "------------------------------------------------------------------------------------------------------------------------------------------------------------------\n",
      "dfa_ingrl                   1.312           0.891           0.083          -0.113          -0.177          -0.233          -0.331          -0.278           0.050 \n",
      "dfa_ingrsal                 1.786           1.390           1.762**         1.781**         1.136*          0.471           0.261           0.103          -0.028 \n",
      "dfa_ingrcp                 -6.496          -7.147          -6.750          -6.029          -5.840*         -2.761           1.287           0.288          -1.698 \n",
      "constant                    0.015           0.017           0.023**         0.027***        0.032***        0.032***        0.029***        0.025***        0.018*\n",
      "------------------------------------------------------------------------------------------------------------------------------------------------------------------\n",
      "N                             160             160             160             160             160             160             160             160             160 \n",
      "------------------------------------------------------------------------------------------------------------------------------------------------------------------\n",
      "* p<0.1, ** p<0.05, *** p<0.01\n",
      "\n",
      "------------------------------------------------------------------------------------------------------------------------------------------------------------------\n",
      "                          Decil 1         Decil 2         Decil 3         Decil 4         Decil 5         Decil 6         Decil 7         Decil 8         Decil 9 \n",
      "                                b               b               b               b               b               b               b               b               b \n",
      "------------------------------------------------------------------------------------------------------------------------------------------------------------------\n",
      "dfa_ingrl                   2.557*          1.896*          0.787           0.551           0.421           0.288           0.293           0.286           0.460 \n",
      "dfa_ingrsal                 1.198           0.683           1.428           1.373*          0.730           0.050          -0.169          -0.301          -0.290 \n",
      "dfa_ingrcp                -12.012          -8.587          -9.033*         -7.096          -5.894*         -2.624           1.034           0.804          -1.129 \n",
      "constant                    0.615          -0.623          -0.622          -0.083          -0.533          -0.827          -0.466          -0.941          -1.038 \n",
      "------------------------------------------------------------------------------------------------------------------------------------------------------------------\n",
      "N                             160             160             160             160             160             160             160             160             160 \n",
      "------------------------------------------------------------------------------------------------------------------------------------------------------------------\n",
      "* p<0.1, ** p<0.05, *** p<0.01\n",
      "\n",
      "------------------------------------------------------------------------------------------------------------------------------------------------------------------\n",
      "                          Decil 1         Decil 2         Decil 3         Decil 4         Decil 5         Decil 6         Decil 7         Decil 8         Decil 9 \n",
      "                                b               b               b               b               b               b               b               b               b \n",
      "------------------------------------------------------------------------------------------------------------------------------------------------------------------\n",
      "dfa_ingrl                   2.619*          2.012*          0.893           0.659           0.556           0.409           0.414           0.336           0.538 \n",
      "dfa_ingrsal                 1.177           0.645           1.393           1.338*          0.685           0.010          -0.209          -0.318          -0.316 \n",
      "dfa_ingrcp                -12.683          -9.845         -10.183**        -8.272*         -7.362**        -3.941          -0.275           0.271          -1.967 \n",
      "informal_ss                -0.250          -0.468          -0.428          -0.438          -0.547*         -0.491*         -0.487*         -0.199          -0.312 \n",
      "constant                    0.969           0.040          -0.016           0.537           0.241          -0.133           0.224          -0.660          -0.596 \n",
      "------------------------------------------------------------------------------------------------------------------------------------------------------------------\n",
      "N                             160             160             160             160             160             160             160             160             160 \n",
      "------------------------------------------------------------------------------------------------------------------------------------------------------------------\n",
      "* p<0.1, ** p<0.05, *** p<0.01\n",
      "\n"
     ]
    }
   ],
   "source": [
    "%%stata\n",
    "display \"--------MODELO 2--------\"\n",
    "forvalues i = 1/9{\n",
    "    quietly xtreg dllab`i' dfa_ingrl dfa_ingrsal dfa_ingrcp, fe\n",
    "    estimates store m`i', title(Decil `i')\n",
    "}\n",
    "*esttab m1 m2 m3 m4 m5 m6 m7 m8 m9 using final1.csv, replace se(a2) compress title(Estimaciones) mtitles b(a2) starlevels(* 0.1 ** 0.05 *** 0.01) stats(r2 N)\n",
    "estout m1 m2 m3 m4 m5 m6 m7 m8 m9, cells(b(star fmt(3))) stats(N, fmt(0)) legend label varlabels(_cons constant) starlevels(* 0.1 ** 0.05 *** 0.01)\n",
    "\n",
    "forvalues i = 1/9{\n",
    "    quietly xtreg dllab`i' dfa_ingrl dfa_ingrsal dfa_ingrcp mujer afroecuatoriano blanco indigena primaria secundaria terciaria rural b c d e f g h i j k l m n o p q r s t u, fe\n",
    "    estimates store m`i', title(Decil `i')\n",
    "}\n",
    "*esttab m1 m2 m3 m4 m5 m6 m7 m8 m9 using final2.csv, replace se(a2) compress title(Estimaciones) mtitles b(a2) starlevels(* 0.1 ** 0.05 *** 0.01) stats(r2 N)\n",
    "estout m1 m2 m3 m4 m5 m6 m7 m8 m9, cells(b(star fmt(3))) drop(mujer afroecuatoriano blanco indigena primaria secundaria terciaria rural b c d e f g h i j k l m n o p q r s t u) stats(N, fmt(0)) legend label varlabels(_cons constant) starlevels(* 0.1 ** 0.05 *** 0.01)\n",
    "\n",
    "forvalues i = 1/9{\n",
    "    quietly xtreg dllab`i' dfa_ingrl dfa_ingrsal dfa_ingrcp informal_ss mujer afroecuatoriano blanco indigena primaria secundaria terciaria rural b c d e f g h i j k l m n o p q r s t u, fe\n",
    "    \n",
    "    estimates store m`i', title(Decil `i')\n",
    "}\n",
    "*esttab m1 m2 m3 m4 m5 m6 m7 m8 m9 using final3.csv, replace se(a2) compress title(Estimaciones) mtitles b(a2) starlevels(* 0.1 ** 0.05 *** 0.01) stats(r2 N)\n",
    "estout m1 m2 m3 m4 m5 m6 m7 m8 m9, cells(b(star fmt(3))) drop(mujer afroecuatoriano blanco indigena primaria secundaria terciaria rural b c d e f g h i j k l m n o p q r s t u) stats(N, fmt(0)) legend label varlabels(_cons constant) starlevels(* 0.1 ** 0.05 *** 0.01)"
   ]
  },
  {
   "cell_type": "code",
   "execution_count": 85,
   "metadata": {},
   "outputs": [
    {
     "name": "stdout",
     "output_type": "stream",
     "text": [
      "--------MODELO 2--------\n",
      "\n",
      "------------------------------------------------------------------------------------------------------------------------------------------------------------------\n",
      "                          Decil 1         Decil 2         Decil 3         Decil 4         Decil 5         Decil 6         Decil 7         Decil 8         Decil 9 \n",
      "                                b               b               b               b               b               b               b               b               b \n",
      "------------------------------------------------------------------------------------------------------------------------------------------------------------------\n",
      "dfa_ingrl                   1.312           0.891           0.083          -0.113          -0.177          -0.233          -0.331          -0.278           0.050 \n",
      "dfa_ingrsal                 1.786           1.390           1.762**         1.781**         1.136*          0.471           0.261           0.103          -0.028 \n",
      "dfa_ingrcp                 -6.496          -7.147          -6.750          -6.029          -5.840*         -2.761           1.287           0.288          -1.698 \n",
      "constant                    0.015           0.017           0.023**         0.027***        0.032***        0.032***        0.029***        0.025***        0.018*\n",
      "------------------------------------------------------------------------------------------------------------------------------------------------------------------\n",
      "N                             160             160             160             160             160             160             160             160             160 \n",
      "------------------------------------------------------------------------------------------------------------------------------------------------------------------\n",
      "* p<0.1, ** p<0.05, *** p<0.01\n",
      "\n",
      "------------------------------------------------------------------------------------------------------------------------------------------------------------------\n",
      "                          Decil 1         Decil 2         Decil 3         Decil 4         Decil 5         Decil 6         Decil 7         Decil 8         Decil 9 \n",
      "                                b               b               b               b               b               b               b               b               b \n",
      "------------------------------------------------------------------------------------------------------------------------------------------------------------------\n",
      "dfa_ingrl                   2.557*          1.896*          0.787           0.551           0.421           0.288           0.293           0.286           0.460 \n",
      "dfa_ingrsal                 1.198           0.683           1.428           1.373*          0.730           0.050          -0.169          -0.301          -0.290 \n",
      "dfa_ingrcp                -12.012          -8.587          -9.033*         -7.096          -5.894*         -2.624           1.034           0.804          -1.129 \n",
      "constant                    0.615          -0.623          -0.622          -0.083          -0.533          -0.827          -0.466          -0.941          -1.038 \n",
      "------------------------------------------------------------------------------------------------------------------------------------------------------------------\n",
      "N                             160             160             160             160             160             160             160             160             160 \n",
      "------------------------------------------------------------------------------------------------------------------------------------------------------------------\n",
      "* p<0.1, ** p<0.05, *** p<0.01\n",
      "\n",
      "------------------------------------------------------------------------------------------------------------------------------------------------------------------\n",
      "                          Decil 1         Decil 2         Decil 3         Decil 4         Decil 5         Decil 6         Decil 7         Decil 8         Decil 9 \n",
      "                                b               b               b               b               b               b               b               b               b \n",
      "------------------------------------------------------------------------------------------------------------------------------------------------------------------\n",
      "dfa_ingrl                   2.619*          2.012*          0.893           0.659           0.556           0.409           0.414           0.336           0.538 \n",
      "dfa_ingrsal                 1.177           0.645           1.393           1.338*          0.685           0.010          -0.209          -0.318          -0.316 \n",
      "dfa_ingrcp                -12.683          -9.845         -10.183**        -8.272*         -7.362**        -3.941          -0.275           0.271          -1.967 \n",
      "informal_ss                -0.250          -0.468          -0.428          -0.438          -0.547*         -0.491*         -0.487*         -0.199          -0.312 \n",
      "constant                    0.969           0.040          -0.016           0.537           0.241          -0.133           0.224          -0.660          -0.596 \n",
      "------------------------------------------------------------------------------------------------------------------------------------------------------------------\n",
      "N                             160             160             160             160             160             160             160             160             160 \n",
      "------------------------------------------------------------------------------------------------------------------------------------------------------------------\n",
      "* p<0.1, ** p<0.05, *** p<0.01\n",
      "\n"
     ]
    }
   ],
   "source": [
    "%%stata\n",
    "display \"--------MODELO 2--------\"\n",
    "forvalues i = 1/9{\n",
    "    quietly xtreg dllab`i' dfa_ingrl dfa_ingrsal dfa_ingrcp, fe\n",
    "    estimates store m`i', title(Decil `i')\n",
    "}\n",
    "*esttab m1 m2 m3 m4 m5 m6 m7 m8 m9 using final1.csv, replace se(a2) compress title(Estimaciones) mtitles b(a2) starlevels(* 0.1 ** 0.05 *** 0.01) stats(r2 N)\n",
    "estout m1 m2 m3 m4 m5 m6 m7 m8 m9, cells(b(star fmt(3))) stats(N, fmt(0)) legend label varlabels(_cons constant) starlevels(* 0.1 ** 0.05 *** 0.01)\n",
    "\n",
    "forvalues i = 1/9{\n",
    "    quietly xtreg dllab`i' dfa_ingrl dfa_ingrsal dfa_ingrcp mujer afroecuatoriano blanco indigena primaria secundaria terciaria rural b c d e f g h i j k l m n o p q r s t u, fe\n",
    "    estimates store m`i', title(Decil `i')\n",
    "}\n",
    "*esttab m1 m2 m3 m4 m5 m6 m7 m8 m9 using final2.csv, replace se(a2) compress title(Estimaciones) mtitles b(a2) starlevels(* 0.1 ** 0.05 *** 0.01) stats(r2 N)\n",
    "estout m1 m2 m3 m4 m5 m6 m7 m8 m9, cells(b(star fmt(3))) drop(mujer afroecuatoriano blanco indigena primaria secundaria terciaria rural b c d e f g h i j k l m n o p q r s t u) stats(N, fmt(0)) legend label varlabels(_cons constant) starlevels(* 0.1 ** 0.05 *** 0.01)\n",
    "\n",
    "forvalues i = 1/9{\n",
    "    quietly xtreg dllab`i' dfa_ingrl dfa_ingrsal dfa_ingrcp informal_ss mujer afroecuatoriano blanco indigena primaria secundaria terciaria rural b c d e f g h i j k l m n o p q r s t u, fe\n",
    "    \n",
    "    estimates store m`i', title(Decil `i')\n",
    "}\n",
    "*esttab m1 m2 m3 m4 m5 m6 m7 m8 m9 using final3.csv, replace se(a2) compress title(Estimaciones) mtitles b(a2) starlevels(* 0.1 ** 0.05 *** 0.01) stats(r2 N)\n",
    "estout m1 m2 m3 m4 m5 m6 m7 m8 m9, cells(b(star fmt(3))) drop(mujer afroecuatoriano blanco indigena primaria secundaria terciaria rural b c d e f g h i j k l m n o p q r s t u) stats(N, fmt(0)) legend label varlabels(_cons constant) starlevels(* 0.1 ** 0.05 *** 0.01)"
   ]
  },
  {
   "cell_type": "code",
   "execution_count": null,
   "metadata": {},
   "outputs": [],
   "source": [
    "%%stata\n",
    "xtunitroot llc fb_ingrl "
   ]
  },
  {
   "cell_type": "code",
   "execution_count": null,
   "metadata": {},
   "outputs": [],
   "source": [
    "%%stata\n",
    "display \"--------MODELO 2--------\"\n",
    "forvalues i = 1/9{\n",
    "    quietly xtreg dllab`i' fa_ingrl hombre mujer afroecuatoriano blanco indigena mestizo primaria secundaria sin_educacion terciaria rural urbano a b c d e f g h i j k l m n o p q r s t u if year<2018, fe\n",
    "    estimates store m`i', title(Decil `i')\n",
    "}\n",
    "*esttab m1 m2 m3 m4 m5 m6 m7 m8 m9 using final1.csv, replace se(a2) compress title(Estimaciones) mtitles b(a2) starlevels(* 0.1 ** 0.05 *** 0.01) stats(r2 N)\n",
    "estout m1 m2 m3 m4 m5 m6 m7 m8 m9, cells(b(star fmt(3)) ) stats(N, fmt(0)) legend label varlabels(_cons constant) starlevels(* 0.1 ** 0.05 *** 0.01)"
   ]
  },
  {
   "cell_type": "code",
   "execution_count": null,
   "metadata": {},
   "outputs": [],
   "source": [
    "%%stata\n",
    "display \"--------MODELO 3--------\"\n",
    "forvalues i = 1/9{\n",
    "    quietly xtreg dllab`i' d.fa_ingrl informal hombre mujer afroecuatoriano blanco indigena mestizo primaria secundaria sin_educacion terciaria rural urbano a b c d e f g h i j k l m n o p q r s t u if year<2018, fe\n",
    "    estimates store m`i', title(Decil `i')\n",
    "}\n",
    "*esttab m1 m2 m3 m4 m5 m6 m7 m8 m9 using final1.csv, replace se(a2) compress title(Estimaciones) mtitles b(a2) starlevels(* 0.1 ** 0.05 *** 0.01) stats(r2 N)\n",
    "estout m1 m2 m3 m4 m5 m6 m7 m8 m9, cells(b(star fmt(3)) ) stats(N, fmt(0)) legend label varlabels(_cons constant) starlevels(* 0.1 ** 0.05 *** 0.01)"
   ]
  },
  {
   "cell_type": "code",
   "execution_count": null,
   "metadata": {},
   "outputs": [],
   "source": [
    "%%stata\n",
    "display \"--------MODELO 4--------\"\n",
    "forvalues i = 1/9{\n",
    "    quietly xtreg dllab`i' d.fa_ingrl informal if year<2018, fe\n",
    "    estimates store m`i', title(Decil `i')\n",
    "}\n",
    "*esttab m1 m2 m3 m4 m5 m6 m7 m8 m9 using final1.csv, replace se(a2) compress title(Estimaciones) mtitles b(a2) starlevels(* 0.1 ** 0.05 *** 0.01) stats(r2 N)\n",
    "estout m1 m2 m3 m4 m5 m6 m7 m8 m9, cells(b(star fmt(3)) ) stats(N, fmt(0)) legend label varlabels(_cons constant) starlevels(* 0.1 ** 0.05 *** 0.01)"
   ]
  },
  {
   "cell_type": "markdown",
   "metadata": {},
   "source": [
    "**--------------------------INGRESO SALARIAL------------------------------------------**"
   ]
  },
  {
   "cell_type": "code",
   "execution_count": null,
   "metadata": {},
   "outputs": [],
   "source": [
    "%%stata\n",
    "display \"--------MODELO 1--------\"\n",
    "forvalues i = 1/9{\n",
    "    quietly xtreg dlsal`i' fa_ingrsal if year<2018 , fe\n",
    "    estimates store m`i', title(Decil `i')\n",
    "}\n",
    "*esttab m1 m2 m3 m4 m5 m6 m7 m8 m9 using final1.csv, replace se(a2) compress title(Estimaciones) mtitles b(a2) starlevels(* 0.1 ** 0.05 *** 0.01) stats(r2 N)\n",
    "estout m1 m2 m3 m4 m5 m6 m7 m8 m9, cells(b(star fmt(3)) ) stats(N, fmt(0)) legend label varlabels(_cons constant) starlevels(* 0.1 ** 0.05 *** 0.01)"
   ]
  },
  {
   "cell_type": "code",
   "execution_count": null,
   "metadata": {},
   "outputs": [],
   "source": [
    "%%stata\n",
    "display \"--------MODELO 1--------\"\n",
    "forvalues i = 1/9{\n",
    "    quietly xtreg dlsal`i' fa_ingrsal informal_ss if year<2018 , fe\n",
    "    estimates store m`i', title(Decil `i')\n",
    "}\n",
    "*esttab m1 m2 m3 m4 m5 m6 m7 m8 m9 using final1.csv, replace se(a2) compress title(Estimaciones) mtitles b(a2) starlevels(* 0.1 ** 0.05 *** 0.01) stats(r2 N)\n",
    "estout m1 m2 m3 m4 m5 m6 m7 m8 m9, cells(b(star fmt(3)) ) stats(N, fmt(0)) legend label varlabels(_cons constant) starlevels(* 0.1 ** 0.05 *** 0.01)"
   ]
  },
  {
   "cell_type": "code",
   "execution_count": null,
   "metadata": {},
   "outputs": [],
   "source": []
  },
  {
   "cell_type": "code",
   "execution_count": null,
   "metadata": {},
   "outputs": [],
   "source": []
  },
  {
   "cell_type": "code",
   "execution_count": null,
   "metadata": {},
   "outputs": [],
   "source": []
  },
  {
   "cell_type": "markdown",
   "metadata": {},
   "source": [
    "**------------------------INGRESO CUENTA PROPIA----------------------------------------**"
   ]
  },
  {
   "cell_type": "code",
   "execution_count": null,
   "metadata": {},
   "outputs": [],
   "source": [
    "%%stata\n",
    "display \"--------MODELO 1--------\"\n",
    "forvalues i = 1/9{\n",
    "    quietly xtreg dlcp`i' d.fa_ingrcp if year<2018 , fe\n",
    "    estimates store m`i', title(Decil `i')\n",
    "}\n",
    "*esttab m1 m2 m3 m4 m5 m6 m7 m8 m9 using final1.csv, replace se(a2) compress title(Estimaciones) mtitles b(a2) starlevels(* 0.1 ** 0.05 *** 0.01) stats(r2 N)\n",
    "estout m1 m2 m3 m4 m5 m6 m7 m8 m9, cells(b(star fmt(3)) ) stats(N, fmt(0)) legend label varlabels(_cons constant) starlevels(* 0.1 ** 0.05 *** 0.01)"
   ]
  },
  {
   "cell_type": "code",
   "execution_count": null,
   "metadata": {},
   "outputs": [],
   "source": [
    "%%stata\n",
    "display \"--------MODELO 1--------\"\n",
    "forvalues i = 1/9{\n",
    "    quietly xtreg dlcp`i' fa_ingrcp l.informal if year<2018 , fe\n",
    "    estimates store m`i', title(Decil `i')\n",
    "}\n",
    "*esttab m1 m2 m3 m4 m5 m6 m7 m8 m9 using final1.csv, replace se(a2) compress title(Estimaciones) mtitles b(a2) starlevels(* 0.1 ** 0.05 *** 0.01) stats(r2 N)\n",
    "estout m1 m2 m3 m4 m5 m6 m7 m8 m9, cells(b(star fmt(3)) ) stats(N, fmt(0)) legend label varlabels(_cons constant) starlevels(* 0.1 ** 0.05 *** 0.01)"
   ]
  },
  {
   "cell_type": "code",
   "execution_count": null,
   "metadata": {},
   "outputs": [],
   "source": [
    "%%stata \n",
    "xtunitroot llc fa_ingrcp"
   ]
  },
  {
   "cell_type": "code",
   "execution_count": null,
   "metadata": {},
   "outputs": [],
   "source": [
    "%%stata\n",
    "xtline informal_ss"
   ]
  },
  {
   "cell_type": "code",
   "execution_count": null,
   "metadata": {},
   "outputs": [],
   "source": [
    "%%stata\n",
    "reveal all"
   ]
  },
  {
   "cell_type": "code",
   "execution_count": null,
   "metadata": {},
   "outputs": [],
   "source": [
    "df_"
   ]
  },
  {
   "cell_type": "markdown",
   "metadata": {},
   "source": [
    "# Descripción de variables"
   ]
  },
  {
   "cell_type": "code",
   "execution_count": null,
   "metadata": {
    "collapsed": true,
    "jupyter": {
     "outputs_hidden": true
    }
   },
   "outputs": [],
   "source": [
    "# Comparación de variables por año\n",
    "def consolidar_columnas(lista_archivos):\n",
    "    # df columnas por año:\n",
    "    columnas = {file:(read_columns(file)) for file in lista_archivos}\n",
    "    df_columnas = pd.DataFrame.from_dict(columnas, orient='index').T\n",
    "    \n",
    "    # df que contiene una columna con todas las variables \n",
    "    columnas = list(set([j for i in columnas.values() for j in i]))\n",
    "    df_vars = pd.DataFrame(columnas, columns = ['ref'])\n",
    "    \n",
    "    # merge df_columnas en df_vars\n",
    "    for archivo in lista_archivos:\n",
    "        df_vars = df_vars.merge(df_columnas[archivo], how='left', left_on='ref', right_on=archivo)\n",
    "    \n",
    "    return df_vars\n",
    "\n",
    "df_vars = consolidar_columnas(lista_archivos)\n",
    "print('df_vars - Comparación de variables por año')\n",
    "df_vars.sample(5)"
   ]
  },
  {
   "cell_type": "code",
   "execution_count": null,
   "metadata": {
    "collapsed": true,
    "jupyter": {
     "outputs_hidden": true
    }
   },
   "outputs": [],
   "source": [
    "xlw.Book('Book1').sheets('sheet3').range('A1').value = df_vars"
   ]
  },
  {
   "cell_type": "code",
   "execution_count": null,
   "metadata": {
    "collapsed": true,
    "jupyter": {
     "outputs_hidden": true
    }
   },
   "outputs": [],
   "source": [
    "# Descripción de variables\n",
    "df_desc_var = pd.DataFrame([(i, str(j).lower(), meta_dict[i].column_names_to_labels[j]) \n",
    "                            for i in meta_dict \n",
    "                            for j in meta_dict[i].column_names_to_labels], \n",
    "                            columns=['year','var','desc'])\n",
    "print('df_desc_var - Descripción de variables')\n",
    "df_desc_var.sample(5)"
   ]
  },
  {
   "cell_type": "code",
   "execution_count": null,
   "metadata": {
    "collapsed": true,
    "jupyter": {
     "outputs_hidden": true
    }
   },
   "outputs": [],
   "source": [
    "xlw.Book('Book1').sheets('sheet2').range('A1').value = df_desc_var"
   ]
  },
  {
   "cell_type": "code",
   "execution_count": null,
   "metadata": {
    "collapsed": true,
    "jupyter": {
     "outputs_hidden": true
    }
   },
   "outputs": [],
   "source": [
    "# Descripción de etiquetas por variable (label per var)\n",
    "df_desc_label = pd.DataFrame([(i, str(j).lower(), k, meta_dict[i].variable_value_labels[j][k]) \n",
    "                            for i in meta_dict \n",
    "                            for j in meta_dict[i].variable_value_labels\n",
    "                            for k in meta_dict[i].variable_value_labels[j]], \n",
    "                            columns=['year','var','label','label_desc']).set_index(['year','var'])\n",
    "print('df_desc_label - Descripción de etiquetas por variable')\n",
    "df_desc_label.sample(5)"
   ]
  },
  {
   "cell_type": "code",
   "execution_count": null,
   "metadata": {
    "collapsed": true,
    "jupyter": {
     "outputs_hidden": true
    }
   },
   "outputs": [],
   "source": [
    "xlw.Book('smin.xlsx').sheets('varlabels').range('A1').value = df_desc_label"
   ]
  },
  {
   "cell_type": "markdown",
   "metadata": {},
   "source": [
    "# Brecha Genero"
   ]
  },
  {
   "cell_type": "code",
   "execution_count": null,
   "metadata": {},
   "outputs": [],
   "source": [
    "filtro = (df.year=='200712') & (df.ingrsal>0)\n",
    "df_t = df[filtro]\n",
    "df_t['rama1'] = df_t.rama1_desc.str[0]"
   ]
  },
  {
   "cell_type": "code",
   "execution_count": null,
   "metadata": {},
   "outputs": [],
   "source": [
    "ldf = list()\n",
    "for d in df_t.groupby('rama1'):\n",
    "    f = d[1]\n",
    "    ldf.append(pd.crosstab([f.grupo1, f.grupo1_desc], [f.rama1, f.p02_desc], f.fexp, aggfunc=sum, normalize='index').xs('Mujer',level=1, axis=1, drop_level=False))\n",
    "    \n",
    "df1 = pd.concat(ldf, axis=1)\n",
    "df_t = df_t.merge(pd.DataFrame(df1.stack([0,1], dropna=False).droplevel([1,3]), columns=['fem']), how='left', left_on=['grupo1','rama1'], right_index=True)\n",
    "df1"
   ]
  },
  {
   "cell_type": "code",
   "execution_count": null,
   "metadata": {},
   "outputs": [],
   "source": [
    "ldf = list()\n",
    "for d in df_t.groupby('rama1'):\n",
    "    f = d[1]\n",
    "    ldf.append(pd.crosstab([f.grupo1, f.grupo1_desc], [f.rama1, f.p02_desc], f.ingrsal_r, aggfunc=[np.mean,np.std]))\n",
    "df1 = pd.concat(ldf, axis=1)\n",
    "df1.stack(0)"
   ]
  },
  {
   "cell_type": "code",
   "execution_count": null,
   "metadata": {},
   "outputs": [],
   "source": [
    "%%time\n",
    "years = ['200712','201712']\n",
    "colors = ['blue','darkorange']\n",
    "fig, axs = plt.subplots(len(years),sharey=True,sharex=True, figsize=(8,10))\n",
    "for i,year in enumerate(years):\n",
    "    for j,item in enumerate(df[(df.year==year)&(df.ingrsal>0)].groupby(['p02_desc'])):\n",
    "        X = np.log(np.array(item[1].ingrsal_r).reshape(-1, 1))\n",
    "        S = item[1].fexp\n",
    "        h = X.std()*(4/3/X.size)**(1/10) # Silverman rule of thumb for kernel bandwith\n",
    "        kde = KernelDensity(bandwidth=h,kernel='epanechnikov').fit(X=X, sample_weight=S)\n",
    "        x_plot = np.linspace(X.min(), X.max(), 1000).reshape(-1,1)\n",
    "        y_plot = np.exp(kde.score_samples(x_plot))\n",
    "        y_plot_c = np.cumsum(y_plot)/np.cumsum(y_plot)[-1]\n",
    "        axs[i].plot(x_plot,y_plot,label=item[0])\n",
    "        axs[i].axvline(np.average(a=X,axis=0,weights=S),label='Mean-'+item[0],color=colors[j], ls='--',alpha=0.5)\n",
    "        axs[i].legend()\n",
    "    axs[i].set_title(year[:4])\n",
    "\n",
    "plt.xlim(3,8)\n",
    "plt.xlabel('log de ingreso salarial')\n",
    "plt.ylabel('Densidad')\n",
    "plt.savefig('gender.png', dpi=300)\n",
    "plt.show()"
   ]
  },
  {
   "cell_type": "code",
   "execution_count": 14,
   "metadata": {},
   "outputs": [
    {
     "data": {
      "text/html": [
       "<div>\n",
       "<style scoped>\n",
       "    .dataframe tbody tr th:only-of-type {\n",
       "        vertical-align: middle;\n",
       "    }\n",
       "\n",
       "    .dataframe tbody tr th {\n",
       "        vertical-align: top;\n",
       "    }\n",
       "\n",
       "    .dataframe thead th {\n",
       "        text-align: right;\n",
       "    }\n",
       "</style>\n",
       "<table border=\"1\" class=\"dataframe\">\n",
       "  <thead>\n",
       "    <tr style=\"text-align: right;\">\n",
       "      <th></th>\n",
       "      <th>count</th>\n",
       "      <th>mean</th>\n",
       "      <th>std</th>\n",
       "      <th>min</th>\n",
       "      <th>25%</th>\n",
       "      <th>50%</th>\n",
       "      <th>75%</th>\n",
       "      <th>max</th>\n",
       "    </tr>\n",
       "    <tr>\n",
       "      <th>year</th>\n",
       "      <th></th>\n",
       "      <th></th>\n",
       "      <th></th>\n",
       "      <th></th>\n",
       "      <th></th>\n",
       "      <th></th>\n",
       "      <th></th>\n",
       "      <th></th>\n",
       "    </tr>\n",
       "  </thead>\n",
       "  <tbody>\n",
       "    <tr>\n",
       "      <th>200712</th>\n",
       "      <td>7.932003</td>\n",
       "      <td>6.351738</td>\n",
       "      <td>6.065043</td>\n",
       "      <td>2.302585</td>\n",
       "      <td>5.799093</td>\n",
       "      <td>6.173786</td>\n",
       "      <td>6.522093</td>\n",
       "      <td>8.716044</td>\n",
       "    </tr>\n",
       "    <tr>\n",
       "      <th>200812</th>\n",
       "      <td>8.009031</td>\n",
       "      <td>6.470895</td>\n",
       "      <td>6.101103</td>\n",
       "      <td>0.693147</td>\n",
       "      <td>5.940171</td>\n",
       "      <td>6.309918</td>\n",
       "      <td>6.684612</td>\n",
       "      <td>8.630522</td>\n",
       "    </tr>\n",
       "    <tr>\n",
       "      <th>200912</th>\n",
       "      <td>7.967973</td>\n",
       "      <td>6.502639</td>\n",
       "      <td>6.175900</td>\n",
       "      <td>0.693147</td>\n",
       "      <td>5.886104</td>\n",
       "      <td>6.309918</td>\n",
       "      <td>6.714171</td>\n",
       "      <td>8.935904</td>\n",
       "    </tr>\n",
       "    <tr>\n",
       "      <th>201012</th>\n",
       "      <td>8.134761</td>\n",
       "      <td>6.549111</td>\n",
       "      <td>6.214924</td>\n",
       "      <td>2.302585</td>\n",
       "      <td>5.905362</td>\n",
       "      <td>6.380123</td>\n",
       "      <td>6.791221</td>\n",
       "      <td>8.987197</td>\n",
       "    </tr>\n",
       "    <tr>\n",
       "      <th>201112</th>\n",
       "      <td>7.949444</td>\n",
       "      <td>6.697747</td>\n",
       "      <td>6.260474</td>\n",
       "      <td>2.302585</td>\n",
       "      <td>6.136647</td>\n",
       "      <td>6.551080</td>\n",
       "      <td>6.907755</td>\n",
       "      <td>8.935245</td>\n",
       "    </tr>\n",
       "    <tr>\n",
       "      <th>201212</th>\n",
       "      <td>8.001355</td>\n",
       "      <td>6.745483</td>\n",
       "      <td>6.200683</td>\n",
       "      <td>3.401197</td>\n",
       "      <td>6.269096</td>\n",
       "      <td>6.637258</td>\n",
       "      <td>6.943122</td>\n",
       "      <td>8.612503</td>\n",
       "    </tr>\n",
       "    <tr>\n",
       "      <th>201312</th>\n",
       "      <td>8.066835</td>\n",
       "      <td>6.796993</td>\n",
       "      <td>6.345502</td>\n",
       "      <td>2.995732</td>\n",
       "      <td>6.306275</td>\n",
       "      <td>6.646391</td>\n",
       "      <td>6.964608</td>\n",
       "      <td>8.797851</td>\n",
       "    </tr>\n",
       "    <tr>\n",
       "      <th>201412</th>\n",
       "      <td>8.613775</td>\n",
       "      <td>6.859538</td>\n",
       "      <td>6.658054</td>\n",
       "      <td>3.828641</td>\n",
       "      <td>6.380123</td>\n",
       "      <td>6.703188</td>\n",
       "      <td>7.003520</td>\n",
       "      <td>10.596635</td>\n",
       "    </tr>\n",
       "    <tr>\n",
       "      <th>201512</th>\n",
       "      <td>8.612322</td>\n",
       "      <td>6.873306</td>\n",
       "      <td>6.372805</td>\n",
       "      <td>1.945910</td>\n",
       "      <td>6.413459</td>\n",
       "      <td>6.721426</td>\n",
       "      <td>7.032183</td>\n",
       "      <td>8.798757</td>\n",
       "    </tr>\n",
       "    <tr>\n",
       "      <th>201612</th>\n",
       "      <td>8.589142</td>\n",
       "      <td>6.905677</td>\n",
       "      <td>6.418495</td>\n",
       "      <td>1.609438</td>\n",
       "      <td>6.455199</td>\n",
       "      <td>6.748760</td>\n",
       "      <td>7.057898</td>\n",
       "      <td>9.058354</td>\n",
       "    </tr>\n",
       "    <tr>\n",
       "      <th>201712</th>\n",
       "      <td>8.609225</td>\n",
       "      <td>6.908386</td>\n",
       "      <td>6.363156</td>\n",
       "      <td>1.609438</td>\n",
       "      <td>6.496775</td>\n",
       "      <td>6.753438</td>\n",
       "      <td>7.051423</td>\n",
       "      <td>8.779557</td>\n",
       "    </tr>\n",
       "    <tr>\n",
       "      <th>201812</th>\n",
       "      <td>7.734121</td>\n",
       "      <td>6.946358</td>\n",
       "      <td>6.429936</td>\n",
       "      <td>4.948760</td>\n",
       "      <td>6.551080</td>\n",
       "      <td>6.779922</td>\n",
       "      <td>7.077498</td>\n",
       "      <td>9.017968</td>\n",
       "    </tr>\n",
       "    <tr>\n",
       "      <th>201912</th>\n",
       "      <td>7.674617</td>\n",
       "      <td>6.931494</td>\n",
       "      <td>6.326501</td>\n",
       "      <td>4.718499</td>\n",
       "      <td>6.561031</td>\n",
       "      <td>6.779922</td>\n",
       "      <td>7.056175</td>\n",
       "      <td>8.935904</td>\n",
       "    </tr>\n",
       "  </tbody>\n",
       "</table>\n",
       "</div>"
      ],
      "text/plain": [
       "           count      mean       std       min       25%       50%       75%  \\\n",
       "year                                                                           \n",
       "200712  7.932003  6.351738  6.065043  2.302585  5.799093  6.173786  6.522093   \n",
       "200812  8.009031  6.470895  6.101103  0.693147  5.940171  6.309918  6.684612   \n",
       "200912  7.967973  6.502639  6.175900  0.693147  5.886104  6.309918  6.714171   \n",
       "201012  8.134761  6.549111  6.214924  2.302585  5.905362  6.380123  6.791221   \n",
       "201112  7.949444  6.697747  6.260474  2.302585  6.136647  6.551080  6.907755   \n",
       "201212  8.001355  6.745483  6.200683  3.401197  6.269096  6.637258  6.943122   \n",
       "201312  8.066835  6.796993  6.345502  2.995732  6.306275  6.646391  6.964608   \n",
       "201412  8.613775  6.859538  6.658054  3.828641  6.380123  6.703188  7.003520   \n",
       "201512  8.612322  6.873306  6.372805  1.945910  6.413459  6.721426  7.032183   \n",
       "201612  8.589142  6.905677  6.418495  1.609438  6.455199  6.748760  7.057898   \n",
       "201712  8.609225  6.908386  6.363156  1.609438  6.496775  6.753438  7.051423   \n",
       "201812  7.734121  6.946358  6.429936  4.948760  6.551080  6.779922  7.077498   \n",
       "201912  7.674617  6.931494  6.326501  4.718499  6.561031  6.779922  7.056175   \n",
       "\n",
       "              max  \n",
       "year               \n",
       "200712   8.716044  \n",
       "200812   8.630522  \n",
       "200912   8.935904  \n",
       "201012   8.987197  \n",
       "201112   8.935245  \n",
       "201212   8.612503  \n",
       "201312   8.797851  \n",
       "201412  10.596635  \n",
       "201512   8.798757  \n",
       "201612   9.058354  \n",
       "201712   8.779557  \n",
       "201812   9.017968  \n",
       "201912   8.935904  "
      ]
     },
     "execution_count": 14,
     "metadata": {},
     "output_type": "execute_result"
    }
   ],
   "source": [
    "df[df.p42_desc == 'Empleado de gobierno'].groupby('year')['ingrl'].describe().apply(np.log)"
   ]
  },
  {
   "cell_type": "code",
   "execution_count": 33,
   "metadata": {},
   "outputs": [
    {
     "name": "stdout",
     "output_type": "stream",
     "text": [
      "\n",
      "--------MODELO 1--------\n",
      "\n",
      "------------------------------------------------------------------------------------------------------------------------------------------------------------------\n",
      "                          Decil 1         Decil 2         Decil 3         Decil 4         Decil 5         Decil 6         Decil 7         Decil 8         Decil 9 \n",
      "                             b/se            b/se            b/se            b/se            b/se            b/se            b/se            b/se            b/se \n",
      "------------------------------------------------------------------------------------------------------------------------------------------------------------------\n",
      "dfa_ingrl                   2.533***        1.809***        1.282***        1.111***        0.574*          0.073          -0.119          -0.198           0.004 \n",
      "                            0.628           0.450           0.415           0.291           0.286           0.296           0.201           0.280           0.358 \n",
      "constant                    0.019***        0.020***        0.028***        0.031***        0.034***        0.033***        0.030***        0.026***        0.018*\n",
      "                            0.003           0.002           0.002           0.001           0.001           0.001           0.001           0.001           0.001 \n",
      "------------------------------------------------------------------------------------------------------------------------------------------------------------------\n",
      "N                             160             160             160             160             160             160             160             160             160 \n",
      "------------------------------------------------------------------------------------------------------------------------------------------------------------------\n",
      "* p<0.1, ** p<0.05, *** p<0.01\n",
      "\n",
      "------------------------------------------------------------------------------------------------------------------------------------------------------------------\n",
      "                          Decil 1         Decil 2         Decil 3         Decil 4         Decil 5         Decil 6         Decil 7         Decil 8         Decil 9 \n",
      "                                b               b               b               b               b               b               b               b               b \n",
      "------------------------------------------------------------------------------------------------------------------------------------------------------------------\n",
      "dfa_ingrl                   3.583***        3.353***        1.977***        1.695***        1.212**         0.472          -0.322          -0.507           0.034 \n",
      "constant                   -0.307          -2.021          -1.450          -0.763          -1.055          -1.349**        -0.742          -1.412**        -1.253*\n",
      "------------------------------------------------------------------------------------------------------------------------------------------------------------------\n",
      "N                             160             160             160             160             160             160             160             160             160 \n",
      "------------------------------------------------------------------------------------------------------------------------------------------------------------------\n",
      "* p<0.1, ** p<0.05, *** p<0.01\n",
      "\n"
     ]
    }
   ],
   "source": [
    "%%stata\n",
    "cls\n",
    "display \"--------MODELO 1--------\"\n",
    "forvalues i = 1/9{\n",
    "    quietly xtreg dllab`i' dfa_ingrl,fe robust\n",
    "    estimates store m`i', title(Decil `i')\n",
    "}\n",
    "* esttab m1 m2 m3 m4 m5 m6 m7 m8 m9 using final1.csv, replace se(a2) compress title(Estimaciones) mtitles b(a2) starlevels(* 0.1 ** 0.05 *** 0.01) stats(r2 N)\n",
    "estout m1 m2 m3 m4 m5 m6 m7 m8 m9, cells(b(star fmt(3)) se) keep(dfa_ingrl _cons) stats(N, fmt(0)) legend label varlabels(_cons constant) starlevels(* 0.1 ** 0.05 *** 0.01)\n",
    "forvalues i = 1/9{\n",
    "    quietly xtreg dllab`i' dfa_ingrl mujer afroecuatoriano blanco indigena primaria secundaria terciaria rural b c d e f g h i j k l m n o p q r s t u i.year, fe\n",
    "    estimates store m`i', title(Decil `i')\n",
    "}\n",
    "* esttab m1 m2 m3 m4 m5 m6 m7 m8 m9 using final2.csv, replace se(a2) compress title(Estimaciones) mtitles b(a2) starlevels(* 0.1 ** 0.05 *** 0.01) stats(r2 N)\n",
    "estout m1 m2 m3 m4 m5 m6 m7 m8 m9, cells(b(star fmt(3))) keep(dfa_ingrl _cons) stats(N, fmt(0)) legend label varlabels(_cons constant) starlevels(* 0.1 ** 0.05 *** 0.01)"
   ]
  },
  {
   "cell_type": "code",
   "execution_count": 36,
   "metadata": {},
   "outputs": [
    {
     "name": "stdout",
     "output_type": "stream",
     "text": [
      "--------MODELO 2--------\n",
      "\n",
      "coefficient dfb_ingrsal not found\n",
      "r(111);\n",
      "\n",
      "------------------------------------------------------------------------------------------------------------------------------------------------------------------\n",
      "                          Decil 1         Decil 2         Decil 3         Decil 4         Decil 5         Decil 6         Decil 7         Decil 8         Decil 9 \n",
      "                                b               b               b               b               b               b               b               b               b \n",
      "------------------------------------------------------------------------------------------------------------------------------------------------------------------\n",
      "dfa_ingrl                   1.599*          1.679**         0.463           0.263           0.043          -0.429          -1.112***       -1.232***       -0.651 \n",
      "dfb_ingrsal                -3.762***       -3.288***       -2.841***       -2.720***       -2.217***       -1.751***       -1.573***       -1.496***       -1.356*\n",
      "dfb_ingrcp                  2.659          -1.340           3.047           1.791           1.593          -0.099          -1.285          -2.888*         -0.867 \n",
      "constant                    0.899          -0.886          -0.561           0.112          -0.344          -0.758          -0.185          -0.845          -0.778 \n",
      "------------------------------------------------------------------------------------------------------------------------------------------------------------------\n",
      "N                             160             160             160             160             160             160             160             160             160 \n",
      "------------------------------------------------------------------------------------------------------------------------------------------------------------------\n",
      "* p<0.1, ** p<0.05, *** p<0.01\n",
      "\n"
     ]
    }
   ],
   "source": [
    "%%stata\n",
    "display \"--------MODELO 2--------\"\n",
    "forvalues i = 1/9{\n",
    "    quietly xtreg dllab`i' dfa_ingrl dfa_ingrsal fa_ingrcp, fe robust\n",
    "    estimates store m`i', title(Decil `i')\n",
    "}\n",
    "*esttab m1 m2 m3 m4 m5 m6 m7 m8 m9 using final1.csv, replace se(a2) compress title(Estimaciones) mtitles b(a2) starlevels(* 0.1 ** 0.05 *** 0.01) stats(r2 N)\n",
    "estout m1 m2 m3 m4 m5 m6 m7 m8 m9, cells(b(star fmt(3))) keep(dfa_ingrl dfb_ingrsal dfb_ingrcp _cons) stats(N, fmt(0)) legend label varlabels(_cons constant) starlevels(* 0.1 ** 0.05 *** 0.01)\n",
    "\n",
    "forvalues i = 1/9{\n",
    "    quietly xtreg dllab`i' dfa_ingrl dfb_ingrsal dfb_ingrcp mujer afroecuatoriano blanco indigena primaria secundaria terciaria rural b c d e f g h i j k l m n o p q r s t u i.year, fe\n",
    "    estimates store m`i', title(Decil `i')\n",
    "}\n",
    "*esttab m1 m2 m3 m4 m5 m6 m7 m8 m9 using final2.csv, replace se(a2) compress title(Estimaciones) mtitles b(a2) starlevels(* 0.1 ** 0.05 *** 0.01) stats(r2 N)\n",
    "estout m1 m2 m3 m4 m5 m6 m7 m8 m9, cells(b(star fmt(3))) keep(dfa_ingrl dfb_ingrsal dfb_ingrcp _cons) stats(N, fmt(0)) legend label varlabels(_cons constant) starlevels(* 0.1 ** 0.05 *** 0.01)"
   ]
  },
  {
   "cell_type": "markdown",
   "metadata": {},
   "source": [
    "# OTROS"
   ]
  },
  {
   "cell_type": "code",
   "execution_count": 12,
   "metadata": {},
   "outputs": [
    {
     "data": {
      "text/plain": [
       "array([5, 9, 2, 7, 1, 8, 0, 6, 4, 3], dtype=int64)"
      ]
     },
     "execution_count": 12,
     "metadata": {},
     "output_type": "execute_result"
    }
   ],
   "source": [
    "df.p_nacional.unique()"
   ]
  },
  {
   "cell_type": "code",
   "execution_count": 30,
   "metadata": {},
   "outputs": [],
   "source": [
    "df['tipo_emp'] = np.where(df.ingrsal>df.ingrcp,'FOR','INF')"
   ]
  },
  {
   "cell_type": "code",
   "execution_count": 32,
   "metadata": {},
   "outputs": [
    {
     "data": {
      "text/html": [
       "<div>\n",
       "<style scoped>\n",
       "    .dataframe tbody tr th:only-of-type {\n",
       "        vertical-align: middle;\n",
       "    }\n",
       "\n",
       "    .dataframe tbody tr th {\n",
       "        vertical-align: top;\n",
       "    }\n",
       "\n",
       "    .dataframe thead th {\n",
       "        text-align: right;\n",
       "    }\n",
       "</style>\n",
       "<table border=\"1\" class=\"dataframe\">\n",
       "  <thead>\n",
       "    <tr style=\"text-align: right;\">\n",
       "      <th></th>\n",
       "      <th>ingrl</th>\n",
       "      <th>ingrsal</th>\n",
       "      <th>ingrcp</th>\n",
       "      <th>tipo_emp</th>\n",
       "    </tr>\n",
       "  </thead>\n",
       "  <tbody>\n",
       "    <tr>\n",
       "      <th>0</th>\n",
       "      <td>200.0</td>\n",
       "      <td>0.0</td>\n",
       "      <td>0.0</td>\n",
       "      <td>INF</td>\n",
       "    </tr>\n",
       "    <tr>\n",
       "      <th>1</th>\n",
       "      <td>720.0</td>\n",
       "      <td>720.0</td>\n",
       "      <td>0.0</td>\n",
       "      <td>FOR</td>\n",
       "    </tr>\n",
       "    <tr>\n",
       "      <th>2</th>\n",
       "      <td>110.0</td>\n",
       "      <td>0.0</td>\n",
       "      <td>0.0</td>\n",
       "      <td>INF</td>\n",
       "    </tr>\n",
       "    <tr>\n",
       "      <th>3</th>\n",
       "      <td>305.0</td>\n",
       "      <td>305.0</td>\n",
       "      <td>0.0</td>\n",
       "      <td>FOR</td>\n",
       "    </tr>\n",
       "    <tr>\n",
       "      <th>4</th>\n",
       "      <td>80.0</td>\n",
       "      <td>80.0</td>\n",
       "      <td>0.0</td>\n",
       "      <td>FOR</td>\n",
       "    </tr>\n",
       "    <tr>\n",
       "      <th>...</th>\n",
       "      <td>...</td>\n",
       "      <td>...</td>\n",
       "      <td>...</td>\n",
       "      <td>...</td>\n",
       "    </tr>\n",
       "    <tr>\n",
       "      <th>431037</th>\n",
       "      <td>998.0</td>\n",
       "      <td>900.0</td>\n",
       "      <td>98.0</td>\n",
       "      <td>FOR</td>\n",
       "    </tr>\n",
       "    <tr>\n",
       "      <th>431038</th>\n",
       "      <td>330.0</td>\n",
       "      <td>240.0</td>\n",
       "      <td>90.0</td>\n",
       "      <td>FOR</td>\n",
       "    </tr>\n",
       "    <tr>\n",
       "      <th>431039</th>\n",
       "      <td>150.0</td>\n",
       "      <td>0.0</td>\n",
       "      <td>0.0</td>\n",
       "      <td>INF</td>\n",
       "    </tr>\n",
       "    <tr>\n",
       "      <th>431040</th>\n",
       "      <td>1540.0</td>\n",
       "      <td>0.0</td>\n",
       "      <td>0.0</td>\n",
       "      <td>INF</td>\n",
       "    </tr>\n",
       "    <tr>\n",
       "      <th>431041</th>\n",
       "      <td>700.0</td>\n",
       "      <td>400.0</td>\n",
       "      <td>300.0</td>\n",
       "      <td>FOR</td>\n",
       "    </tr>\n",
       "  </tbody>\n",
       "</table>\n",
       "<p>412747 rows × 4 columns</p>\n",
       "</div>"
      ],
      "text/plain": [
       "         ingrl  ingrsal  ingrcp tipo_emp\n",
       "0        200.0      0.0     0.0      INF\n",
       "1        720.0    720.0     0.0      FOR\n",
       "2        110.0      0.0     0.0      INF\n",
       "3        305.0    305.0     0.0      FOR\n",
       "4         80.0     80.0     0.0      FOR\n",
       "...        ...      ...     ...      ...\n",
       "431037   998.0    900.0    98.0      FOR\n",
       "431038   330.0    240.0    90.0      FOR\n",
       "431039   150.0      0.0     0.0      INF\n",
       "431040  1540.0      0.0     0.0      INF\n",
       "431041   700.0    400.0   300.0      FOR\n",
       "\n",
       "[412747 rows x 4 columns]"
      ]
     },
     "execution_count": 32,
     "metadata": {},
     "output_type": "execute_result"
    }
   ],
   "source": [
    "df[['ingrl','ingrsal','ingrcp','tipo_emp']]"
   ]
  },
  {
   "cell_type": "code",
   "execution_count": 17,
   "metadata": {},
   "outputs": [
    {
     "data": {
      "text/plain": [
       "array([nan, 'Sector Informal', 'Empleo Doméstico', 'Sector Formal',\n",
       "       'No Clasificados por Sector'], dtype=object)"
      ]
     },
     "execution_count": 17,
     "metadata": {},
     "output_type": "execute_result"
    }
   ],
   "source": [
    "df.secemp_desc.unique()"
   ]
  },
  {
   "cell_type": "code",
   "execution_count": 35,
   "metadata": {},
   "outputs": [],
   "source": [
    "pd.crosstab([df.year,df.p_nacional],df.tipo_emp,df.fexp,aggfunc=np.sum,normalize='index').to_clipboard()"
   ]
  },
  {
   "cell_type": "code",
   "execution_count": null,
   "metadata": {},
   "outputs": [],
   "source": [
    "for col in [col for col in panel.columns if col.startswith(('fa_','fb_','faf_'))]:\n",
    "    panel['d'+col] = panel[col].groupby(level=0).transform(pd.DataFrame.di"
   ]
  },
  {
   "cell_type": "code",
   "execution_count": 36,
   "metadata": {},
   "outputs": [
    {
     "data": {
      "text/plain": [
       "year\n",
       "200712    [nan,  Contrato permanente / indefinido / esta...\n",
       "200812    [nan,  Contrato permanente / indefinido / esta...\n",
       "200912    [nan,  Por jornal,  Contrato permanente / inde...\n",
       "201012    [nan,  Por jornal,  Contrato permanente / inde...\n",
       "201112    [nan,  Contrato permanente / indefinido / esta...\n",
       "201212    [nan,  Contrato permanente / indefinido / esta...\n",
       "201312    [nan,  Contrato temporal, ocasional o eventual...\n",
       "201412    [ Contrato temporal, ocasional o eventual, nan...\n",
       "201512    [nan, Contrato temporal, ocasional o eventual,...\n",
       "201612    [nan, Por horas, Contrato temporal, ocasional ...\n",
       "201712    [nan, Contrato temporal, ocasional o eventual,...\n",
       "201812    [Por jornal, Contrato permanente / indefinido ...\n",
       "201912    [Por jornal, Con contrato temporal, ocasional ...\n",
       "Name: p43_desc, dtype: object"
      ]
     },
     "execution_count": 36,
     "metadata": {},
     "output_type": "execute_result"
    }
   ],
   "source": [
    "df.groupby('year')['p43_desc'].unique()"
   ]
  },
  {
   "cell_type": "code",
   "execution_count": 38,
   "metadata": {},
   "outputs": [
    {
     "data": {
      "text/plain": [
       "year\n",
       "200712                   [nan]\n",
       "200812                   [nan]\n",
       "200912                   [nan]\n",
       "201012                   [nan]\n",
       "201112                   [nan]\n",
       "201212                   [nan]\n",
       "201312                   [nan]\n",
       "201412                   [nan]\n",
       "201512                   [nan]\n",
       "201612                   [nan]\n",
       "201712                   [nan]\n",
       "201812    [2.0, 3.0, 1.0, 4.0]\n",
       "201912    [2.0, 3.0, 1.0, 4.0]\n",
       "Name: secemp, dtype: object"
      ]
     },
     "execution_count": 38,
     "metadata": {},
     "output_type": "execute_result"
    }
   ],
   "source": [
    "df.groupby('year')['secemp'].unique()"
   ]
  }
 ],
 "metadata": {
  "kernelspec": {
   "display_name": "Python 3",
   "language": "python",
   "name": "python3"
  },
  "language_info": {
   "codemirror_mode": {
    "name": "ipython",
    "version": 3
   },
   "file_extension": ".py",
   "mimetype": "text/x-python",
   "name": "python",
   "nbconvert_exporter": "python",
   "pygments_lexer": "ipython3",
   "version": "3.8.3"
  }
 },
 "nbformat": 4,
 "nbformat_minor": 4
}
